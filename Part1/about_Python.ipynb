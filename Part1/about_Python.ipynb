{
 "cells": [
  {
   "cell_type": "markdown",
   "metadata": {},
   "source": [
    "## 1. Python에 대하여"
   ]
  },
  {
   "cell_type": "markdown",
   "metadata": {},
   "source": [
    "- [개요](#overview)\n",
    "- [Python?](#python?)\n",
    "- [과학 계산 프로그래밍](#scientific_programming)"
   ]
  },
  {
   "cell_type": "markdown",
   "metadata": {},
   "source": [
    "### <a id=\"overview\">개요</a>"
   ]
  },
  {
   "cell_type": "markdown",
   "metadata": {},
   "source": [
    "\n",
    "이 장에서는\n",
    "- 간략한 Python 소개하며,\n",
    "- 주요 기능에 대한 간략한 설명하고,\n",
    "- 그리고 다른 프로그래밍 언어와 비교 한다.\n",
    "\n",
    "내용을 그대로 복사하여 따라하는 것은 바람직하지 않은 방법이며, 이 글을 통하여 Python이 어떠한 특징을 지닌 프로그래밍 언어이며 어떠한 것을 할 수 있는 가에 대한 이해를 갖도록 하는 것이 목표이다.\n"
   ]
  },
  {
   "cell_type": "markdown",
   "metadata": {},
   "source": [
    "### <a id=\"python?\">Python?</a>"
   ]
  },
  {
   "cell_type": "markdown",
   "metadata": {},
   "source": [
    "Python은 구렁이다."
   ]
  },
  {
   "cell_type": "markdown",
   "metadata": {},
   "source": [
    "![Python](Figures1/pythonfig1-1-2.gif)\n",
    "(출처: http://phoenix-it-mos.net/2015/python-examples/)"
   ]
  },
  {
   "cell_type": "markdown",
   "metadata": {},
   "source": [
    "Python은 네덜란드 프로그래머 Guido van Rossum이 1989년 창안한 범용 프로그래밍 언어(general purpose programming language)로 Python Software Foundation이 개발을 주도하는 자유 공개 소스 소프트웨어(free and open source software) 이다. \n",
    "\n",
    "Python은 지난 10년 동안 많은 분야의 소프트웨어 개발에 사용되어 왔고 현재는 가장 보편적인 프로그래밍 언어중 하나가 되었다. 또한 지속적으로 사용이 확산 중이다. KAIST에서도 약 10년전부터 기초 필수 교과목인 \"프로그래밍 기초\"(http://http://cs101.kaist.ac.kr/schedule.html)에서 Python 강의를 개설하고 있다."
   ]
  },
  {
   "cell_type": "markdown",
   "metadata": {},
   "source": [
    "#### 응용 분야"
   ]
  },
  {
   "cell_type": "markdown",
   "metadata": {},
   "source": [
    "Python이 범용 프로그램 언어이므로 다음과 같이 소프트웨어의 많은 분야에서 사용되고 있다. \n",
    "+ 인공지능\n",
    "+ 컴퓨터 통신\n",
    "+ 웹 페이지 개발\n",
    "+ 사용자 인터페이스 (user interface)\n",
    "+ 게임\n",
    "+ 멀티미디어, 데이터 처리, 정보 보호, 등 \n",
    "\n",
    "\n",
    "우리에게 잘 알려진 Google, Dropbox, Reddit, YouTube, Walt Disney Animation, 등 우리에게 잘 알려진 인터넷 서비스 기업과 첨단 기업에서도 널리 사용하고 있다. 또한 대학에서 전산학과 프로그래잉 교육에서도 채택하고 있으며, 특히 과학계, NASA, CERN, Wall St., 등에서도 인기리에 사용되고 있다. (아마 이런 이유로 딸이 Python을 배우고 싶어 하는 것일 것이다.)\n"
   ]
  },
  {
   "cell_type": "markdown",
   "metadata": {},
   "source": [
    "#### 사용자"
   ]
  },
  {
   "cell_type": "markdown",
   "metadata": {},
   "source": [
    "[Stack Overflow Blog](https://stackoverflow.blog/2017/05/09/introducing-stack-overflow-trends/)에서 Stack Overflow Trends tool ()를 사용하여 매달 Stack Overflow에 올라온 질문의 수를 바탕으로 프로그래밍 언어와 기술에 대한 관심도를 경향을 추적하였다. 다음 그림은 그 결과를 많이 사용되는 비슷한 유형의 프로그래밍 언어와 비교한 것이다. "
   ]
  },
  {
   "cell_type": "markdown",
   "metadata": {},
   "source": [
    "![Python](Figures1/pythonfig1-1-3.png)\n",
    "(출처: https://stackoverflow.blog/2017/05/09/introducing-stack-overflow-trends/)"
   ]
  },
  {
   "cell_type": "markdown",
   "metadata": {},
   "source": [
    "아직도 php는 건재하고 perl은 사라져 간다. 그러나 php 자리는 이미 pyhon에게 빼았꼈다."
   ]
  },
  {
   "cell_type": "markdown",
   "metadata": {},
   "source": [
    "아래 그림은 다른 범용 프로그래밍 언어들과 비교한 것이다."
   ]
  },
  {
   "cell_type": "markdown",
   "metadata": {},
   "source": [
    "![Python](Figures1/pythonfig1-1-4.png)\n",
    "(출처: https://lectures.quantecon.org/py/about_py.html)"
   ]
  },
  {
   "cell_type": "markdown",
   "metadata": {},
   "source": [
    "위에서 본 것처럼 Python은 매우 널리 사용되고 있으며 사용자도 증가하고 있다. 과학계산용으로도 강세를 보이고 있을까? 아래 그림은 MATLAB과의 비교이다.\n"
   ]
  },
  {
   "cell_type": "markdown",
   "metadata": {},
   "source": [
    "![Python](Figures1/pythonfig1-1-5.png)\n",
    "(출처: https://lectures.quantecon.org/py/about_py.html)"
   ]
  },
  {
   "cell_type": "markdown",
   "metadata": {},
   "source": [
    "물론 범용 프로그래밍 언어인 Python과 MTALAB과 같은 특수 목적의 언어의 사용자를 직접 비교할 수는 없지만 Python으로 데이타 분석을 위한 라이브러리로 사용되고 있다는 측면에서 볼 수 있다."
   ]
  },
  {
   "cell_type": "markdown",
   "metadata": {},
   "source": [
    "#### 언어 특성"
   ]
  },
  {
   "cell_type": "markdown",
   "metadata": {},
   "source": [
    "Python은 응용 프로그램을 빠른 개발에 적합하도록 상대적으로 작은 핵심 부분과 수많은 라이브러리들로 구성된 고급 프로그래밍 언어(high level programming language)이다. 더우기 절차적, 객체지향, 함수적 등 여러 프로그래밍 파라다임을 지원하며 컴파일 보다는 인터프리트(interpreted) 방법으로 수행된다. "
   ]
  },
  {
   "cell_type": "markdown",
   "metadata": {},
   "source": [
    "#### 문법과 프로그램 작성"
   ]
  },
  {
   "cell_type": "markdown",
   "metadata": {},
   "source": [
    "나중에 예를 통하여 볼 수 있겠지만 Python 문법의 특성은 간단하고 우아하다. 우아한 코드라는 말이 어폐가 있을 수 있으나 실제로 Python으로 작성된 코드는 쉽게 이해하고 기억할 수 있는 큰 장점을 갖고 있다. \n",
    "\n",
    "어떻게 파일을 읽고, 자료를 정렬하는 것과 같은 작업들을 기억한다는 것은 문법에 맞는 코드 작성을 위하여 인터넷을 검색하는 동안 문제 해결을 위한 생각의 흐름이 끊길 필요가 없다는 것을 의미 한다. 즉 우아한 문법은 프로그램을 우아하게 설계하는 것과 밀접하게 관련되어 있다. 반복자(iterators), 생성자(generators), 장식자 (decorators), 리스트 축약 (list comprehension) 등과 같은 기능은 보다 간결한 코드를 작성할 수 있도록 하여 Python을 표현력이 풍부한 언어로 만들어 주었다."
   ]
  },
  {
   "cell_type": "markdown",
   "metadata": {},
   "source": [
    "### <a id=\"scientific_programming\">과학 계산 프로그래밍(Scientific Programming)</a>"
   ]
  },
  {
   "cell_type": "markdown",
   "metadata": {},
   "source": [
    "지난 10여년 동안 FORTRAN을 대체하는 과학계산용 핵심 프로그래밍 언어로 등극하였다. 최근 들어서 기계 학습과 데이터 과학 (Machine learning and data science), 천문학 (Astronomy), 인공지능 (Artificial Intelligence), 화학 (Chemistry), 전산 생물학 (Computational biology), 기상학 (Meteology) 등 분야에서는 보편적인 언어이다. "
   ]
  },
  {
   "cell_type": "markdown",
   "metadata": {},
   "source": [
    "#### 수치 처리 (Numerical Processing)"
   ]
  },
  {
   "cell_type": "markdown",
   "metadata": {},
   "source": [
    "Numpy라는 라이브러리를 사용하여 기본적인 행렬과 배열 처리를 할 수 있도록 기본적인 배열 자료 형 (data type)과 함께 아래 예와 같이 기초적인 처리 연산도 제공한다. "
   ]
  },
  {
   "cell_type": "code",
   "execution_count": 1,
   "metadata": {
    "collapsed": false
   },
   "outputs": [
    {
     "data": {
      "text/plain": [
       "25.0"
      ]
     },
     "execution_count": 1,
     "metadata": {},
     "output_type": "execute_result"
    }
   ],
   "source": [
    "import numpy as np                   # Load the library\n",
    "\n",
    "a = np.linspace(-np.pi, np.pi, 100)  # Create array (even grid from -pi to pi)\n",
    "b = np.cos(a)                        # Apply cosine to each element of a\n",
    "c = np.ones(25)                      # An array of 25 ones\n",
    "np.dot(c, c)                         # Compute inner product"
   ]
  },
  {
   "cell_type": "markdown",
   "metadata": {},
   "source": [
    "NumPy를 이용하여 구축한 SciPy 라이브러리는 추가적인 기능을 제공한다. 예를 들어 ϕ이 표준 정규 분포 함수 (standard normal density)라면, <img src=\"Figures1/pythonfig1-1-6.png\">를 계산하여 보자. <a id=\"tuple_unpacking_example\"></a>"
   ]
  },
  {
   "cell_type": "code",
   "execution_count": 2,
   "metadata": {
    "collapsed": false
   },
   "outputs": [
    {
     "data": {
      "text/plain": [
       "0.9544997361036417"
      ]
     },
     "execution_count": 2,
     "metadata": {},
     "output_type": "execute_result"
    }
   ],
   "source": [
    "from scipy.stats import norm\n",
    "from scipy.integrate import quad\n",
    "\n",
    "phi = norm()\n",
    "value, error = quad(phi.pdf, -2, 2)  # Integrate using Gaussian quadrature\n",
    "value"
   ]
  },
  {
   "cell_type": "markdown",
   "metadata": {},
   "source": [
    "SciPy는 선형대수 (linear algebra), 적분 (integration), 보간 (interpolation), 최적화 (optimization), 분포 및 난수 발생 (distributions and random number generation), 신호 처리 (signal processing)등의 분야에서 사용되는 표준 함수들을 지원한다."
   ]
  },
  {
   "cell_type": "markdown",
   "metadata": {
    "collapsed": true
   },
   "source": [
    "#### 그래프 (Graphics)"
   ]
  },
  {
   "cell_type": "markdown",
   "metadata": {},
   "source": [
    "Matplotlib는 그림과 그래프를 작성하기 위한 기장 보편적이고 종합적인 Python 라이브러리이며, 점 그래프 (Plots), 히스토그램 (histograms), 등고선 이미지 (contour images), 3D, 막대 챠트 (bar charts) 등, PDF, PNG, EPS 등 다양한 출력 포맷과 LaTex과의 통합을 지원한다.\n",
    "\n",
    "다음은 LaTex으로 주석을 달은 2차원 그래프이다."
   ]
  },
  {
   "cell_type": "markdown",
   "metadata": {},
   "source": [
    "![Python](Figures1/pythonfig1-1-7.png)\n",
    "(출처: https://lectures.quantecon.org/py/about_py.html)"
   ]
  },
  {
   "cell_type": "markdown",
   "metadata": {},
   "source": [
    "등고선 이미지 예"
   ]
  },
  {
   "cell_type": "markdown",
   "metadata": {},
   "source": [
    "![Python](Figures1/pythonfig1-1-8.png)\n",
    "(출처: https://lectures.quantecon.org/py/about_py.html)"
   ]
  },
  {
   "cell_type": "markdown",
   "metadata": {},
   "source": [
    "3차원 그래프 예"
   ]
  },
  {
   "cell_type": "markdown",
   "metadata": {},
   "source": [
    "![Python](Figures1/pythonfig1-1-9.png)\n",
    "(출처: https://lectures.quantecon.org/py/about_py.html)"
   ]
  },
  {
   "cell_type": "markdown",
   "metadata": {},
   "source": [
    "많은 예를 Matplotlib thumbnail gallery에서 볼 수 있다. \n",
    "\n",
    "Plotly, Bokeh, 3차원 그래프와 애미매이션 (animation)을 위한 VPython 등의 그래픽 라이브러리가 있다. "
   ]
  },
  {
   "cell_type": "markdown",
   "metadata": {},
   "source": [
    "#### 기호 대수학 (Symbolic Algebra)"
   ]
  },
  {
   "cell_type": "markdown",
   "metadata": {},
   "source": [
    "Sympy 라이브러리는 Mathematica 이나 Maple과 같은 언어에서 처럼 기호식 (symbolic expressions)을 Python 명령어 (shell)에서 조작할 수 있다.  "
   ]
  },
  {
   "cell_type": "code",
   "execution_count": 1,
   "metadata": {
    "collapsed": false
   },
   "outputs": [
    {
     "data": {
      "text/plain": [
       "3*x + y"
      ]
     },
     "execution_count": 1,
     "metadata": {},
     "output_type": "execute_result"
    }
   ],
   "source": [
    "from sympy import Symbol\n",
    "\n",
    "x, y = Symbol('x'), Symbol('y')  # Treat 'x' and 'y' as algebraic symbols\n",
    "x + x + x + y"
   ]
  },
  {
   "cell_type": "markdown",
   "metadata": {},
   "source": [
    "식을 다룰 수도 있고,"
   ]
  },
  {
   "cell_type": "code",
   "execution_count": 2,
   "metadata": {
    "collapsed": false
   },
   "outputs": [
    {
     "data": {
      "text/plain": [
       "x**2 + 2*x*y + y**2"
      ]
     },
     "execution_count": 2,
     "metadata": {},
     "output_type": "execute_result"
    }
   ],
   "source": [
    "expression = (x + y)**2\n",
    "expression.expand()"
   ]
  },
  {
   "cell_type": "markdown",
   "metadata": {},
   "source": [
    "다항식을 풀 수 있으며,"
   ]
  },
  {
   "cell_type": "code",
   "execution_count": 3,
   "metadata": {
    "collapsed": false
   },
   "outputs": [
    {
     "data": {
      "text/plain": [
       "[-1/2 - sqrt(7)*I/2, -1/2 + sqrt(7)*I/2]"
      ]
     },
     "execution_count": 3,
     "metadata": {},
     "output_type": "execute_result"
    }
   ],
   "source": [
    "from sympy import solve\n",
    "\n",
    "solve(x**2 + x + 2)"
   ]
  },
  {
   "cell_type": "markdown",
   "metadata": {},
   "source": [
    "그리고 극한값 (limits)을 구하고, 미분 (derivatives)와 적분을 할 수 있다."
   ]
  },
  {
   "cell_type": "code",
   "execution_count": 4,
   "metadata": {
    "collapsed": false
   },
   "outputs": [
    {
     "data": {
      "text/plain": [
       "oo"
      ]
     },
     "execution_count": 4,
     "metadata": {},
     "output_type": "execute_result"
    }
   ],
   "source": [
    "from sympy import limit, sin, diff\n",
    "\n",
    "limit(1 / x, x, 0)"
   ]
  },
  {
   "cell_type": "code",
   "execution_count": 5,
   "metadata": {
    "collapsed": false
   },
   "outputs": [
    {
     "data": {
      "text/plain": [
       "1"
      ]
     },
     "execution_count": 5,
     "metadata": {},
     "output_type": "execute_result"
    }
   ],
   "source": [
    "limit(sin(x) / x, x, 0)"
   ]
  },
  {
   "cell_type": "code",
   "execution_count": 6,
   "metadata": {
    "collapsed": false
   },
   "outputs": [
    {
     "data": {
      "text/plain": [
       "cos(x)"
      ]
     },
     "execution_count": 6,
     "metadata": {},
     "output_type": "execute_result"
    }
   ],
   "source": [
    "diff(sin(x), x)"
   ]
  },
  {
   "cell_type": "markdown",
   "metadata": {},
   "source": [
    "Python에 위의 기능을 들여옴으로써 개발자는본격적인 프로그래밍 언어의 코드를 작성할 수 있다. 그 결과 미분 표를 만들고, LaTex 출력을 생성하고, 이에 그림을 추가하는 등의 작업을 어렵지 않게 할 수 있다."
   ]
  },
  {
   "cell_type": "markdown",
   "metadata": {},
   "source": [
    "#### 통계 (Statistics)"
   ]
  },
  {
   "cell_type": "markdown",
   "metadata": {},
   "source": [
    "최근 몇년 동안 Python의 데이터 조작과 통계 라이브러리가 매우 빠르게 개선되었다. "
   ]
  },
  {
   "cell_type": "markdown",
   "metadata": {},
   "source": [
    "**pandas**"
   ]
  },
  {
   "cell_type": "markdown",
   "metadata": {},
   "source": [
    "Pandas는 데이터를 다루는 작업에서 가장 널리 사용되는 라이브러리이다. 이는 빠르고 효율적이고, 유연하며, 잘 설계된 라이브러리이다.\n",
    "\n",
    "아래는 간단한 예이다."
   ]
  },
  {
   "cell_type": "code",
   "execution_count": 7,
   "metadata": {
    "collapsed": false
   },
   "outputs": [
    {
     "name": "stdout",
     "output_type": "stream",
     "text": [
      "               price    weight\n",
      "2010-12-28 -0.367216  0.433001\n",
      "2010-12-29 -0.070665 -0.377677\n",
      "2010-12-30  1.095533  0.861934\n",
      "2010-12-31 -1.132912  0.873135\n",
      "2011-01-01 -1.848006  0.777863\n"
     ]
    }
   ],
   "source": [
    "import pandas as pd\n",
    "import scipy as sp\n",
    "\n",
    "data = sp.randn(5, 2)  # Create 5x2 matrix of random numbers for toy example\n",
    "dates = pd.date_range('28/12/2010', periods=5)\n",
    "df = pd.DataFrame(data, columns=('price', 'weight'), index=dates)\n",
    "print(df)"
   ]
  },
  {
   "cell_type": "code",
   "execution_count": 8,
   "metadata": {
    "collapsed": false
   },
   "outputs": [
    {
     "data": {
      "text/plain": [
       "price    -0.464653\n",
       "weight    0.513651\n",
       "dtype: float64"
      ]
     },
     "execution_count": 8,
     "metadata": {},
     "output_type": "execute_result"
    }
   ],
   "source": [
    "df.mean()"
   ]
  },
  {
   "cell_type": "markdown",
   "metadata": {},
   "source": [
    "**유용한 통계 라이브러리**"
   ]
  },
  {
   "cell_type": "markdown",
   "metadata": {},
   "source": [
    "- statsmodels — 다양한 통계 프로그렘\n",
    "- scikit-learn — Python에서 사용할 수 있는 기계 학습 (machine learning) 라이브러리 \n",
    "- pyMC — 베이지안 데이터 분석 (Bayesian data analysis) 라이브러리\n",
    "- stan에 기반한 pystan 베이지안 분석 라이브러리"
   ]
  }
 ],
 "metadata": {
  "kernelspec": {
   "display_name": "Python 3",
   "language": "python",
   "name": "python3"
  },
  "language_info": {
   "codemirror_mode": {
    "name": "ipython",
    "version": 3
   },
   "file_extension": ".py",
   "mimetype": "text/x-python",
   "name": "python",
   "nbconvert_exporter": "python",
   "pygments_lexer": "ipython3",
   "version": "3.6.0"
  }
 },
 "nbformat": 4,
 "nbformat_minor": 0
}
