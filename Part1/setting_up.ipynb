{
 "cells": [
  {
   "cell_type": "markdown",
   "metadata": {},
   "source": [
    "## Setting up Your Python Environment"
   ]
  },
  {
   "cell_type": "markdown",
   "metadata": {},
   "source": [
    "- 소개\n",
    "- 첫걸음\n",
    "- Jupyter\n",
    "- 추가 소프트웨어\n",
    "- 대안\n",
    "- 연습문제"
   ]
  },
  {
   "cell_type": "markdown",
   "metadata": {},
   "source": [
    "### 소개"
   ]
  },
  {
   "cell_type": "markdown",
   "metadata": {},
   "source": [
    "이장에서 Python 여행의 첫걸음을 딛는다. 여기에서 아래의 것을 다룬다.\n",
    "- Python 프로그래밍 환경을 구축하여 필요한 모든 도구들과 함께 프로그램 수행\n",
    "- 간단한 Python명령어 수행\n",
    "- 샘플 프로그램 수행\n",
    "- 위의 것을 뒷바침하는 Python 프로그램의 설치"
   ]
  },
  {
   "cell_type": "markdown",
   "metadata": {},
   "source": [
    "#### Important Notes"
   ]
  },
  {
   "cell_type": "markdown",
   "metadata": {},
   "source": [
    "핵심 Python 패키지는 쉽게 설치 할 수 있으나 무엇을 선택할 지는 쉽지 않다. 여기서는 기본 설치에 해당되지 않는 것을 한번에 하나씩 설치하는 것이 귀찮은 작업이 필요한 과학계산 프로그래밍 생태계 구축이 필요하다. 그리하여 가장 바람직한 방법으로 핵심 Python 언어와 가장 보편적인 과학계산 라이브러리를 포함하고 있는 자유 Pyhton 배포판 (free Python distribution)을 설치한다. "
   ]
  },
  {
   "cell_type": "markdown",
   "metadata": {},
   "source": [
    "### 첫걸음"
   ]
  },
  {
   "cell_type": "markdown",
   "metadata": {},
   "source": [
    "다수의 배포판이 있지만, Anaconda (https://www.continuum.io/why-anaconda)를 추천한다. \n",
    "\n",
    "![Python](../Figures1/pythonfig1-2-1.jpeg)\n",
    "(출처: http://reptiland.com/student-shopper-online-catalog/)\n",
    "\n",
    "Anaconda는 \n",
    "- 널리 사용되고 있으며,\n",
    "- Linux, Window, OS X 등 여러 플랫폼에서 실행할 수 있으며,\n",
    "- 다양한 소프트웨어를 사용할 수 있도록 매우 포괄적이다.\n",
    "\n",
    "또한 Anaconda는 작성한 코드 라이브러리를 구성할 수 있는 훌륭한 패키지 관리 시스템을 갖추고 있다. \n",
    "\n",
    "** 이후 추천하는 Anaconda를 사용하여 설명하도록 한다. **"
   ]
  },
  {
   "cell_type": "markdown",
   "metadata": {},
   "source": [
    "#### Anaconda 설치"
   ]
  },
  {
   "cell_type": "markdown",
   "metadata": {},
   "source": [
    "Anaconda 설치는 바이너리를 다운받아 (https://www.continuum.io/downloads)지시에 따르면 된다.\n",
    "\n",
    "설치시에 다음에 유의하여야 한다.\n",
    "- (Python 3.6을 사용하여) 가장 최근 버전을 설치한다. \n",
    "- 만약 설치시에 Anaconda를 기본 Python 설치로 설정 여부를 물으면, **yes**라고 한다.\n",
    "- 다른 모든 것은 디폴트 값으로 지정한다."
   ]
  },
  {
   "cell_type": "markdown",
   "metadata": {},
   "source": [
    "#### 패키지 관리"
   ]
  },
  {
   "cell_type": "markdown",
   "metadata": {},
   "source": [
    "Anaconda 패키지는 과학 계산 프로그래밍에 자주 사용되는 여러 과학 계산용 패키지를 갖고 있다. 이를 관리하기 위하여 Anaconda는 *conda*라는 도구를 제공한다. 주기적으로 수행하는 *conda* 명령어 하나로 Anaconda 배포판 전체를 한번에 업데이트할 수 있다. 이를 다음과 같이 수행 할 수 있다.\n",
    "\n",
    "1. termial 앱을 연다.\n",
    "    * terminal 앱을 다음과 같이 열 수 있다.\n",
    "        * Mac 사용자는 http://guides.macrumors.com/Terminal 를 참조하고,\n",
    "        * Window 사용자는 *cmd* 앱을 수행하거나 http://www.computerhope.com/issues/chdos.htm 를 참조하고,\n",
    "        * Linux 사용자는 이미 잘 알고 있을 것이다.\n",
    "1. *conda update anaconda* 명령을 수행한다.\n",
    "\n",
    "(Anaconda를 조금 전에 이미 설치 했다면, 이를 수행했는지 확인 하여야 한다)\n",
    "\n",
    "*conda info* 명령 또한 설치에 대한 정보를 보여주므로 유용하다. \n",
    "\n",
    "*conda*에 대한 자세한 내용은\n",
    "* terminal 명령 *conda help* 또는\n",
    "* 온라인 문서 (http://conda.pydata.org/docs/intro.html)에서 볼 수 있다.\n"
   ]
  },
  {
   "cell_type": "markdown",
   "metadata": {},
   "source": [
    "#### 브라우저"
   ]
  },
  {
   "cell_type": "markdown",
   "metadata": {},
   "source": [
    "Python을 사용하기 위하여 브라우저를 사용할 것이다. 지금이 브라우서를 갱신하고, Chrome (https://www.google.com/chrome/browser/) 또는 Firefox (https://www.mozilla.org/en-US/firefox/new/) 같은 공짜 브리우저를 설치할 좋은 때이다. 브라우저를 설치했다면 이제부터 구렁이와 놀아보자."
   ]
  },
  {
   "cell_type": "markdown",
   "metadata": {},
   "source": [
    "### Jupyter"
   ]
  },
  {
   "cell_type": "markdown",
   "metadata": {},
   "source": [
    "Jupyter notebook은 Python과 과학 계산용 Python 스택 (stack)을 사용할 수 있는 많은 방법 중 하나이며, \n",
    "* Python 명령을 작성하고 실행,\n",
    "* 표, 그림과 애니매이션이 포함된 서식 있는 결과물을 브라우저에 출력,\n",
    "* 서식있는 텍스트와 수학 식을 섞어 사용할 수 있도록 선택할 수 있는\n",
    "\n",
    "*브라우저 기반 (browser-based)의* 인터페이스를 제공한다. (이 문서 또한 현재 Jupyter notebook을 사용하여 작성하고 있다.)"
   ]
  },
  {
   "cell_type": "markdown",
   "metadata": {},
   "source": [
    "아래 그림은 Jupyter notebook에서 예제 코드(http://matplotlib.org/examples/pylab_examples/hexbin_demo.html) 를 실행한 이미지를 보여주고 있다."
   ]
  },
  {
   "cell_type": "markdown",
   "metadata": {},
   "source": [
    "![Python](../Figures1/pythonfig1-2-2.png)\n",
    "(출처: https://lectures.quantecon.org/py/getting_started.html)"
   ]
  },
  {
   "cell_type": "markdown",
   "metadata": {},
   "source": [
    " Jupyter notebook에서 수학식과 텍스트가 사용하는 여러 예제를 http://nbviewer.jupyter.org/github/QuantEcon/TaxSmoothing/blob/master/Tax_Smoothing_1.ipynb 에서 볼 수 있다.  또한 QuantEcon’s notebook archive (https://quantecon.org/notebooks.html)와 NB viewer site (http://nbviewer.jupyter.org/) 에 다양한 예제를 찾을 수 있다. (프로그램을 잘 할 수 있는 방법 중의 하나는 잘짜여진 프로그램을 읽고 자신의 것으로 만드는 방법이다.)\n",
    " \n",
    "Jupyter로만 python 코드를 작성할 수 있는 것은 아니지만, \n",
    "* Python으로 프로그램을 시작할 때\n",
    "* 새로운 아이디어를 검증하거나 간단한 프로그램을 작성할 때\n",
    "* 학생이나 동료들과 새로운 아이디어를 공유하거나 협력할 때\n",
    "편하게 사용할 수 있다.\n",
    "\n",
    "이를 보이기 위하여 Jupyter notebook에서 수행할 수 있도록 만들었다."
   ]
  },
  {
   "cell_type": "markdown",
   "metadata": {},
   "source": [
    "#### Jupyter Notebook 시작하기"
   ]
  },
  {
   "cell_type": "markdown",
   "metadata": {},
   "source": [
    "Jupyter notebook을 \n",
    "* 응용 프로그램 메뉴에서 jupyter를 찾거나\n",
    "* terminal에서 *jupyter notebook* 명령을 입력하여\n",
    "\n",
    "실행할 수 있다.\n",
    "\n",
    "Mac에서 위의 두번째 방법으로 수행한다면 아래와 같은 화면을 볼 수 있다."
   ]
  },
  {
   "cell_type": "markdown",
   "metadata": {},
   "source": [
    "![Python](../Figures1/pythonfig1-2-3.png)"
   ]
  },
  {
   "cell_type": "markdown",
   "metadata": {},
   "source": [
    "위의 화면은 notebook을 <code>ｈｔｔｐ：／／ｌｏｃａｌｈｏｓｔ：８８８８／</code>에서 실행하고 있다고 알려주고 있다. ｌｏｃａｌ　ｈｏｓｔ는 notebook이 실행되고 있는 컴퓨터의 이름이며, ８８８８은 사용하고 있는 컴퓨터의 포트 번호이다. 즉, Jupyter 프로그램은 현재 사용중인 컴퓨터의 포트 8888에서 Python 명령어 입력을 지켜 보고 있다. 다행히도 기본 브라우저는 아래와 같은 웹 페이지를 보여 준다."
   ]
  },
  {
   "cell_type": "markdown",
   "metadata": {},
   "source": [
    "![Python](Figures1/pythonfig1-2-4.png)"
   ]
  },
  {
   "cell_type": "markdown",
   "metadata": {},
   "source": [
    "위에서 본 것을 Jupyter 대시보드 (dashboard) 라고 한다. 상단의 URL에서 ｌｏｃａｌｈｏｓｔ：８８８８ 또는 유사한 것들을 볼 수 있다. 위의 것들이 모두 잘 수행되었다면 오른쪽 상단의 Ｎｅｗ 버튼을 클릭하고 Python을 선택하면 아래와 같은 것을 볼 수 있다."
   ]
  },
  {
   "cell_type": "markdown",
   "metadata": {},
   "source": [
    "![Python](Figures1/pythonfig1-2-5.png)"
   ]
  },
  {
   "cell_type": "markdown",
   "metadata": {},
   "source": [
    "Notebook은 python 명령을 입력할 수 있는 *active cell*을 보여준다."
   ]
  },
  {
   "cell_type": "markdown",
   "metadata": {},
   "source": [
    "#### Notebook 기초"
   ]
  },
  {
   "cell_type": "markdown",
   "metadata": {},
   "source": [
    "이제 코드를 작성하여 프로그램을 수행하는 방법 알아보자."
   ]
  },
  {
   "cell_type": "markdown",
   "metadata": {},
   "source": [
    "**셀 실행**"
   ]
  },
  {
   "cell_type": "markdown",
   "metadata": {},
   "source": [
    "위 그림에서 녹색으로 둘러싸인 쎌을 볼 수 있었다. 이는 그 쎌이 편집 모드 임을 나타내는 것이다. 이때 Python 코드를 입력 할 수 있으며 쎌에 보여진다. 쎌의 코드를 실행하고 싶다면 흔히 사용하는 ｅｎｔｅｒ 키를 누르는 대신 Ｓｈｉｆｔ－Ｅｎｔｅｒ를 누른다. "
   ]
  },
  {
   "cell_type": "markdown",
   "metadata": {},
   "source": [
    "![Python](Figures1/pythonfig1-2-6.png)"
   ]
  },
  {
   "cell_type": "markdown",
   "metadata": {},
   "source": [
    "(Note: 쎌의 코드를 메뉴와 버튼을 사용하여 수행 할 수도 있다.)"
   ]
  },
  {
   "cell_type": "markdown",
   "metadata": {},
   "source": [
    "**모드**"
   ]
  },
  {
   "cell_type": "markdown",
   "metadata": {},
   "source": [
    "Jupyter notebook은 모드 편집 시스템을 채택하고 있다. 이는 현재 모드에 따라 키보드 타이핑의 효과가 다르다는 것을 뜻한다. 모드에는\n",
    "\n",
    "1. 편집 모드\n",
    "    * 쎌 주위를 녹색으로 둘러 표시하며, \n",
    "    * 쎌내에 입력한대로 보여준다.\n",
    "1. 명령 모드\n",
    "    * 녹색 가장자리를 회색으로 바꾼다.\n",
    "    * 입력을 명령으로 해석한다 예를 들면 b는 현재 쎌 아래에 새로운 쎌을 추가한다.\n",
    "\n",
    "편집 모드에서 명령 모드로 바꾸기 위하여는 Esc 키 또는 Ctrl-M을 누르며, 명령 모드에서 편집 모드로 변경하려면, Enter를 누르거나 해당 쎌을 클릭한다. Jupyter notebook의 모드 변환은 처음에 약간 까다롭게 보이지만 익숙해 지면 매우 편리하다.\n"
   ]
  },
  {
   "cell_type": "markdown",
   "metadata": {},
   "source": [
    "**사용자 인터페이스**"
   ]
  },
  {
   "cell_type": "markdown",
   "metadata": {},
   "source": [
    "이제 notebook의 사용자 인터페이스를 살펴 볼 것을 권한다. 즉 메뉴를 실행하여 그 결과를 살펴보고, \"help\" 메뉴에서 제공하는 \"user interface tour\"를 해보자."
   ]
  },
  {
   "cell_type": "markdown",
   "metadata": {},
   "source": [
    "**테스트 프로그램**"
   ]
  },
  {
   "cell_type": "markdown",
   "metadata": {},
   "source": [
    "간단하게 테스트 프로그램 (http://matplotlib.org/1.4.1/examples/pie_and_polar_charts/polar_bar_demo.html) 을  실행하여 본다. "
   ]
  },
  {
   "cell_type": "code",
   "execution_count": 1,
   "metadata": {
    "collapsed": false
   },
   "outputs": [
    {
     "data": {
      "image/png": "[encoded data removed]",
      "text/plain": [
       "<matplotlib.figure.Figure at 0x103f5bc88>"
      ]
     },
     "metadata": {},
     "output_type": "display_data"
    }
   ],
   "source": [
    "import numpy as np\n",
    "import matplotlib.pyplot as plt\n",
    "%matplotlib inline \n",
    "\n",
    "N = 20\n",
    "theta = np.linspace(0.0, 2 * np.pi, N, endpoint=False)\n",
    "radii = 10 * np.random.rand(N)\n",
    "width = np.pi / 4 * np.random.rand(N)\n",
    "\n",
    "ax = plt.subplot(111, polar=True)\n",
    "bars = ax.bar(theta, radii, width=width, bottom=0.0)\n",
    "\n",
    "# Use custom colors and opacity\n",
    "for r, bar in zip(radii, bars):\n",
    "    bar.set_facecolor(plt.cm.jet(r / 10.))\n",
    "    bar.set_alpha(0.5)\n",
    "\n",
    "plt.show()"
   ]
  },
  {
   "cell_type": "markdown",
   "metadata": {},
   "source": [
    "위 프로그램의 자세한 사항에 대하여 걱정하지 말고 그냥 수행하여 어떤 결과를 본다. 이 코드를 쎌에 복사하여 실행하는 것이 가장 쉬운 방법이다. "
   ]
  },
  {
   "cell_type": "markdown",
   "metadata": {},
   "source": [
    "#### Notebook에서 작업하기"
   ]
  },
  {
   "cell_type": "markdown",
   "metadata": {},
   "source": [
    "Notebook에서 작업하는데에 사용할 수 있는 팁을 소개한다."
   ]
  },
  {
   "cell_type": "markdown",
   "metadata": {},
   "source": [
    "**Tab Completion**"
   ]
  },
  {
   "cell_type": "markdown",
   "metadata": {},
   "source": [
    "이전 프로그램에서 ｉｍｐｏｒｔ　ｎｕｍｐｙ　ａｓ　ｎｐ 문장을 실행하였다. Ｎｕｍｐｙ 라이브러리에 대하여 앞으로 심도 있게 다룰 것이다.  ｉｍｐｏｒｔ 명령어 이후 ｎｐ．＜ｆｕｎｃｔｉｏｎ＿ｎａｍｅ＞ 모양으로 Ｎｕｍｐｙ 함수를 호출 할 수 있다.  예를 들면, ｎｐ．ｒａｎｄｏｍ．ｒａｎｄｎ（３）와 같다. \n",
    "\n",
    "이때 Tab 키를 사용하여 np의 이 애트리뷰트 (attribute)를 살펴 볼 수 있다. 예를 들어 np.ran를 입력한 후 Tab 키를 누르면 아래와 같은 화면을 볼 수 있다."
   ]
  },
  {
   "cell_type": "markdown",
   "metadata": {},
   "source": [
    "![Python](Figures1/pythonfig1-2-7.png)"
   ]
  },
  {
   "cell_type": "markdown",
   "metadata": {},
   "source": [
    "Jupyter는 random and rank 두가지 완성될 수 있는 명령어를 보여준다. 이는 이용 할 수 있는 명령어를 보여 주며 타입하는 수고를 덜어 준다."
   ]
  },
  {
   "cell_type": "markdown",
   "metadata": {},
   "source": [
    "**온라인 도움말**"
   ]
  },
  {
   "cell_type": "markdown",
   "metadata": {},
   "source": [
    "ｎｐ．ｒａｎｋ에 대한 도움말이 필요하면 간단하게 ｎｐ．ｒａｎｋ？를 수행한다. 브라우저의 다른 윈도우에 해당 문서를 출력한다."
   ]
  },
  {
   "cell_type": "markdown",
   "metadata": {},
   "source": [
    "![Python](Figures1/pythonfig1-2-8.png)"
   ]
  },
  {
   "cell_type": "markdown",
   "metadata": {},
   "source": [
    "도움말 윈도우 오르쪽 상단을 클릭하면 온라인 도움말을 종료할 수 있다."
   ]
  },
  {
   "cell_type": "markdown",
   "metadata": {},
   "source": [
    "**기타 사항**"
   ]
  },
  {
   "cell_type": "markdown",
   "metadata": {},
   "source": [
    "코드를 실행하는 것을 너머, 아래 그림과 같이 Jupyter notebook으로 텍스트, 식, 그림과 비디오를 페이지 넣을 수 있다 (이 문서가 그런 것이다.)"
   ]
  },
  {
   "cell_type": "markdown",
   "metadata": {},
   "source": [
    "![Python](Figures1/pythonfig1-2-9.png)"
   ]
  },
  {
   "cell_type": "markdown",
   "metadata": {},
   "source": [
    "명령 모드로 가기 위하여 Esc를 누르고 ｍ을 타입하여 (또는 상단 메뉴 창 아래의 Code drop-down 박스에서 Markdown을 선택하여) Markdown (html 또는 LaTex과 같은 매우 간단한 mark-up 언어) 형식으로 작성한다. Ｓｈｉｆｔ＋Ｅｎｔｅｒ를 누르면 아래와 같은 결과를 얻을 수 있다."
   ]
  },
  {
   "cell_type": "markdown",
   "metadata": {},
   "source": [
    "If $\\{A_n\\}$ is pairwise disjoint, then\n",
    "$$ \\mu(cup_n A_n) = \\sum_m \\mu(A-n) $$"
   ]
  },
  {
   "cell_type": "markdown",
   "metadata": {},
   "source": [
    "#### Notebook  공유"
   ]
  },
  {
   "cell_type": "markdown",
   "metadata": {},
   "source": [
    "Notebook을 저장하여 다른 사용자들과 쉽게 공유할 수 있다.  Notebook 파일은 JSON 형식의 .ipynb를 확장자로 같는 텍스트 파일이다. 예를 들어 \n",
    "https://github.com/QuantEcon/QuantEcon.lectures.code/blob/master/getting_started/first_notebook_py.ipynb 에서 다운로드 하여 Raw 버튼을 눌러 화면을 파일에 저장한다. 대시보드에서 저장된 파일을 열면 다음과 같다."
   ]
  },
  {
   "cell_type": "markdown",
   "metadata": {},
   "source": [
    "![Python](Figures1/pythonfig1-2-10.png)"
   ]
  },
  {
   "cell_type": "markdown",
   "metadata": {},
   "source": [
    "nbviewer (http://nbviewer.jupyter.org/) 를 이용하여 notebook을 공유할 수도 있다. 브라우저에 보여지는 것은 정적인 html 형식이다. 실행하기 위하여 이를 다운로드\n",
    "\n",
    "To run one, download it as an ipynb file by clicking on the download icon at the top right of its page\n",
    "\n",
    "Once downloaded you can open it as a notebook, as discussed just above"
   ]
  },
  {
   "cell_type": "markdown",
   "metadata": {},
   "source": [
    "### 추가 소프트웨어"
   ]
  },
  {
   "cell_type": "markdown",
   "metadata": {},
   "source": [
    "### 대안"
   ]
  },
  {
   "cell_type": "markdown",
   "metadata": {},
   "source": [
    "### 연습문제"
   ]
  },
  {
   "cell_type": "code",
   "execution_count": null,
   "metadata": {
    "collapsed": true
   },
   "outputs": [],
   "source": []
  }
 ],
 "metadata": {
  "anaconda-cloud": {},
  "kernelspec": {
   "display_name": "Python 3",
   "language": "python",
   "name": "python3"
  },
  "language_info": {
   "codemirror_mode": {
    "name": "ipython",
    "version": 3
   },
   "file_extension": ".py",
   "mimetype": "text/x-python",
   "name": "python",
   "nbconvert_exporter": "python",
   "pygments_lexer": "ipython3",
   "version": "3.6.0"
  }
 },
 "nbformat": 4,
 "nbformat_minor": 0
}
