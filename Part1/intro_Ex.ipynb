{
 "cells": [
  {
   "cell_type": "markdown",
   "metadata": {},
   "source": [
    "## 3. Python 첫 걸음"
   ]
  },
  {
   "cell_type": "markdown",
   "metadata": {},
   "source": [
    "* [개요](#overview)\n",
    "* [백색 잡음 과정(White Noise Process) 플로팅 하기](#task)\n",
    "* [첫 버전(Version 1)](#version_1)\n",
    "* [다른 버전(Alternative Versions)](#alter_version)\n",
    "* [연습](#exercises)"
   ]
  },
  {
   "cell_type": "markdown",
   "metadata": {},
   "source": [
    "이제 본격적으로 Python 언어 자체를 배워 보자. 이 장과 다음 몇 장은 프로그래밍에 대한 기본 지식을 갖춘 사람들을 위한 것이다. 그러나 programming을 모르는 사람을 배제한 것은 아니다. 힘을 내자!  여기를 시작하기 전에 아마 프로그래밍에 대한 기본적인 공부가 필요할 수도 있다. 처음 프로그래밍을 접하는 사람을 위하여 일독을 권한다.\n",
    "* [How to Think Like a Computer Scientist](http://openbookproject.net/thinkcs/python/english3e)의 첫 5 또는 6 장\n",
    "* [Automate the Boring Stuff with Python](https://automatetheboringstuff.com/)\n",
    "* [The start of Dive into Python 3](http://www.diveintopython3.net/)\n",
    "\n",
    "위의 참고 자료들은 Python 설치에 도움을 준다. 그러나 아마 알고 있는 [set up page](https://lectures.quantecon.org/py/getting_started.html)를 고수하는 것이다. 이후 두드러진 과학계산환경 (Anaconda)를 갖추어 뒷 부분을 공부할 준비가 되어 있어야 한다."
   ]
  },
  {
   "cell_type": "markdown",
   "metadata": {},
   "source": [
    "### <a id=\"overview\"></a>개요"
   ]
  },
  {
   "cell_type": "markdown",
   "metadata": {},
   "source": [
    "여기에서는 작은 Python 프로그램을 작성하고 설명 한다. 이는 기본적인 Python 구문과 자료 구조를 소개하고자 함이다. 보다 깊은 내용은 이후 설명하기로 한다."
   ]
  },
  {
   "cell_type": "markdown",
   "metadata": {},
   "source": [
    "#### 시작에 앞서 필요한 내용"
   ]
  },
  {
   "cell_type": "markdown",
   "metadata": {},
   "source": [
    "[getting started with Python](https://github.com/YoonJoon/ProgramminginPython/blob/master/Part1/setting_up.ipynb)"
   ]
  },
  {
   "cell_type": "markdown",
   "metadata": {},
   "source": [
    "### <a id=\"task\"></a>백색잡음과정 "
   ]
  },
  {
   "cell_type": "markdown",
   "metadata": {},
   "source": [
    "[백색잡음과정(white noise procee)](https://en.wikipedia.org/wiki/White_noise) ε0,ε1,…,εT를 시뮬레이션하고 플롯하고자 한다. 이떄 각 εT는 독립적인 정규분포를 따른다. 다르게 표현하면, 아래와 같은 그림을 그리기 위한 것이다."
   ]
  },
  {
   "cell_type": "markdown",
   "metadata": {},
   "source": [
    "![](Figures1/pythonfig1-3-1.png)\n",
    "(출처: https://lectures.quantecon.org/py/python_by_example.html)"
   ]
  },
  {
   "cell_type": "markdown",
   "metadata": {},
   "source": [
    "여러 가지로 다르게 프로그램을 작성할 수 있다."
   ]
  },
  {
   "cell_type": "markdown",
   "metadata": {},
   "source": [
    "### <a id=\"version_1\"></a>첫 버전"
   ]
  },
  {
   "cell_type": "markdown",
   "metadata": {},
   "source": [
    "아래는 위에서 요청한 작업을 처리하기 위한 코드 이다."
   ]
  },
  {
   "cell_type": "code",
   "execution_count": 2,
   "metadata": {
    "collapsed": false
   },
   "outputs": [
    {
     "data": {
      "image/png": "[encoded data removed]",
      "text/plain": [
       "<matplotlib.figure.Figure at 0x103f9c6a0>"
      ]
     },
     "metadata": {},
     "output_type": "display_data"
    }
   ],
   "source": [
    "import numpy as np\n",
    "import matplotlib.pyplot as plt\n",
    "%matplotlib inline \n",
    "\n",
    "x = np.random.randn(100)\n",
    "plt.plot(x)\n",
    "plt.show()"
   ]
  },
  {
   "cell_type": "markdown",
   "metadata": {},
   "source": [
    "어떻게 작동하는지 보기 위하여 한 문장씩 설명한다."
   ]
  },
  {
   "cell_type": "markdown",
   "metadata": {},
   "source": [
    "#### import 문"
   ]
  },
  {
   "cell_type": "markdown",
   "metadata": {
    "collapsed": true
   },
   "source": [
    "첫 두 줄은 패키지 기능을 사용하기 위한 것이다. 첫 줄은 ＮｕｍＰＹ를 사용하기 위한 것으로 자주 사용되는 Python 패키지로 다음 작업들 위한 것이다.\n",
    "* (벡터나 행렬 같은) 배열 데이터 처리\n",
    "* ｃｏｓ 과 ｓｑｒｔ 같은 일반적인 수학 함수\n",
    "* 난수 발생\n",
    "* 선형 대수 등\n",
    "\n",
    "ｉｍｐｏｒｔ　ｎｕｍｐｙ　ａｓ　ｎｐ 를 통하여 선언한 다음,  ｎｐ를 사용하여 numpy 패키지의 함수들을 아래 예와 같이 사용할 수 있다. "
   ]
  },
  {
   "cell_type": "code",
   "execution_count": 1,
   "metadata": {
    "collapsed": false
   },
   "outputs": [
    {
     "data": {
      "text/plain": [
       "2.0"
      ]
     },
     "execution_count": 1,
     "metadata": {},
     "output_type": "execute_result"
    }
   ],
   "source": [
    "import numpy as np\n",
    "\n",
    "np.sqrt(4)"
   ]
  },
  {
   "cell_type": "markdown",
   "metadata": {
    "collapsed": true
   },
   "source": [
    "아래 예와 같이 사용할 수 있다."
   ]
  },
  {
   "cell_type": "code",
   "execution_count": 1,
   "metadata": {
    "collapsed": false
   },
   "outputs": [
    {
     "data": {
      "text/plain": [
       "2.0"
      ]
     },
     "execution_count": 1,
     "metadata": {},
     "output_type": "execute_result"
    }
   ],
   "source": [
    "import numpy\n",
    "\n",
    "numpy.sqrt(4)"
   ]
  },
  {
   "cell_type": "markdown",
   "metadata": {},
   "source": [
    "일반적으로 많은 코드에서 전자와 같이 사용하고 있다."
   ]
  },
  {
   "cell_type": "markdown",
   "metadata": {},
   "source": [
    "<u>왜 ｉｍｐｏｒｔ가 필요한가?</u>"
   ]
  },
  {
   "cell_type": "markdown",
   "metadata": {},
   "source": [
    "Python이 범용 프로그래밍 언어라는 것을 기억할 것이다. 작은 핵심으로 이루어져 있어, 배우고 관리하기 용이하다. 따라서 Python을 사용하여 개발을 하려면 import를 통한 부가적인 기능이 필요하다. 과학계산을 위한 Python도 마찬가지이다. 대부분 프로그램에서 위에서 볼 수 있는 import 문으로 시작한다. "
   ]
  },
  {
   "cell_type": "markdown",
   "metadata": {},
   "source": [
    "<u>패키지(Packages)</u>"
   ]
  },
  {
   "cell_type": "markdown",
   "metadata": {},
   "source": [
    "위에서 설명한 것처럼 NumPy는 Python 패키지이다. 개발자는 코드 라이브러리를 구성하는 패키지를 사용한다. 실제로 패키지는 단순히\n",
    "\n",
    "1. Python 코드 파일 - Python에서는 **모듈(module)**이라 한다. \n",
    "1. Python이 호출할 수 있는 (C 언어나 FORTRAN 코드를) 컴파일한 코드 \n",
    "1. import 문을 실행 할 때 지정하여야 하는 ＿＿ｉｎｉｔ＿＿．ｐｙ 파일\n",
    "\n",
    "을 저장하고 있는 디렉토리이다. 실제로 사용자 컴퓨터 NumPy 디렉토리를 찾을 수 있고 어떤 파일이 있는지 탐색할 수 있다. 지금 사용하고 있는 컴퓨터에서는 /Users/yjlee/anaconda/lib/python3.6/site-packages/numpy 이다."
   ]
  },
  {
   "cell_type": "markdown",
   "metadata": {},
   "source": [
    "<u>서브패키지 (Subpackages)</u>"
   ]
  },
  {
   "cell_type": "markdown",
   "metadata": {
    "collapsed": true
   },
   "source": [
    "앞 프로그램의 \"ｘ　＝　ｎｐ．ｒａｎｄｏｍ．ｒａｎｄｎ（１００)\"에서, np는 NumPy를 일컫으며 random은 NumPy의 서브패키지이다. 그 내용을 [여기](https://github.com/numpy/numpy/tree/master/numpy/random)에서 볼 수 있다. 본 것처럼 서브패키지는 단순하게 어떤 패키지의 서브디렉토리 이다."
   ]
  },
  {
   "cell_type": "markdown",
   "metadata": {},
   "source": [
    "#### 서브패키지를 직접 임포트"
   ]
  },
  {
   "cell_type": "markdown",
   "metadata": {},
   "source": [
    "위에서 이미 작성하였던 코드"
   ]
  },
  {
   "cell_type": "markdown",
   "metadata": {
    "collapsed": false
   },
   "source": [
    "import numpy as np\n",
    "\n",
    "np.sqrt(4)"
   ]
  },
  {
   "cell_type": "markdown",
   "metadata": {},
   "source": [
    "을 NumPy의 sqrt를 직접 호출하는 코드로 작성할 수 있다."
   ]
  },
  {
   "cell_type": "markdown",
   "metadata": {
    "collapsed": false
   },
   "source": [
    "from numpy import sqrt\n",
    "\n",
    "sqrt(4)"
   ]
  },
  {
   "cell_type": "markdown",
   "metadata": {},
   "source": [
    "이 방법은 ｓｑｒｔ 함수를 자주 사용한다면 코드를 짧게 작성할 수 있는 장점은 있으나 ｓｑｒｔ 함수를 정의한 패키지를 알고 싶은 사용자에게는 불편할 것이다. "
   ]
  },
  {
   "cell_type": "markdown",
   "metadata": {
    "collapsed": true
   },
   "source": [
    "### <a id=\"alter_version\"></a>다른 버전"
   ]
  },
  {
   "cell_type": "markdown",
   "metadata": {
    "collapsed": true
   },
   "source": [
    "Python 구문과 의미 설명을 더하기 위하여 첫 프로그램이 수행하는 기능을 다르게 작성하여 본다. \n",
    "아래 프로그램은 덜 효율적이지만, \n",
    "* 루프(loop)와 같은 기본적인 구조을 이해하고,\n",
    "* 리스트 같은 자주 사용되는 데이터 타입을 설명할 수 있다."
   ]
  },
  {
   "cell_type": "markdown",
   "metadata": {},
   "source": [
    "#### For 루프 버전"
   ]
  },
  {
   "cell_type": "markdown",
   "metadata": {},
   "source": [
    "루프와 Python 리스트를 설명하는 <a id=\"loop_version\"></a>버전이다."
   ]
  },
  {
   "cell_type": "code",
   "execution_count": 3,
   "metadata": {
    "collapsed": false
   },
   "outputs": [
    {
     "data": {
      "image/png": "[encoded data removed]",
      "text/plain": [
       "<matplotlib.figure.Figure at 0x10a3d2780>"
      ]
     },
     "metadata": {},
     "output_type": "display_data"
    }
   ],
   "source": [
    "import numpy as np\n",
    "import matplotlib.pyplot as plt\n",
    "%matplotlib inline \n",
    "\n",
    "ts_length = 100\n",
    "epsilon_values = []   # Empty list\n",
    "\n",
    "for i in range(ts_length):\n",
    "    e = np.random.randn()\n",
    "    epsilon_values.append(e)\n",
    "\n",
    "plt.plot(epsilon_values, 'b-')\n",
    "plt.show()"
   ]
  },
  {
   "cell_type": "markdown",
   "metadata": {
    "collapsed": true
   },
   "source": [
    "간략하게 설명한다면,\n",
    "* 첫 두 줄은 이전처럼 패키지를 ｉｍｐｏｒｔ 한다.\n",
    "* 다음 줄은 matplotlib 결과를 notebook에 표시하도록 설정한다. (이후 다시 설명할 예정이다.)\n",
    "* 다음 줄은 구하고자 하는 시계열 (time series) 길이를 정한다.\n",
    "* 다음 줄은 εt 값을 생성하여 저장할 ｅｐｓｉｌｏｎ－ｖａｌｕｅｓ라는 *리스트*를 만든다.\n",
    "* 그 다음 세 줄은 ｆｏｒ 루프이다. 반복적으로 난수 εt를 만들고 리스트 ｅｐｓｉｌｏｎ－ｖａｌｕｅｓ에 추가 한다.\n",
    "* 끝에 두 줄은 표를 만들고 사용자에게 출력 한다.\n",
    "\n",
    "코드 일부분을 보다 자세히 살펴보도록 한다."
   ]
  },
  {
   "cell_type": "markdown",
   "metadata": {
    "collapsed": true
   },
   "source": [
    "#### 리스트(List)"
   ]
  },
  {
   "cell_type": "markdown",
   "metadata": {},
   "source": [
    "빈 리스트를 생성하는 ｅｐｓｉｌｏｎ＿ｖａｌｕｅｓ　＝　［］ 문을 살펴 본다. 리스트는　Ｐｙｔｈｏｎ이　기본적으로　제공하며, 객체(object) 컬랙션 그룹핑에 사용되는 자료구조이다."
   ]
  },
  {
   "cell_type": "markdown",
   "metadata": {},
   "source": [
    "예를 들어 보자."
   ]
  },
  {
   "cell_type": "code",
   "execution_count": 7,
   "metadata": {
    "collapsed": false
   },
   "outputs": [
    {
     "data": {
      "text/plain": [
       "list"
      ]
     },
     "execution_count": 7,
     "metadata": {},
     "output_type": "execute_result"
    }
   ],
   "source": [
    "x = [10, 'foo', False]  # We can include heterogeneous data inside a list\n",
    "type(x)"
   ]
  },
  {
   "cell_type": "markdown",
   "metadata": {
    "collapsed": true
   },
   "source": [
    "ｘ의 첫번째 원소(element)는 정수이고, 다음은 문자열, 세번째는 부울 값이다. ｌｉｓｔ＿ｎａｍｅ．ａｐｐｅｎｄ（ｓｏｍｅ＿ｖａｌｕｅ） 문을 이용하여 리스트 값을 추가할 수 있다. "
   ]
  },
  {
   "cell_type": "code",
   "execution_count": 8,
   "metadata": {
    "collapsed": false
   },
   "outputs": [
    {
     "data": {
      "text/plain": [
       "[10, 'foo', False]"
      ]
     },
     "execution_count": 8,
     "metadata": {},
     "output_type": "execute_result"
    }
   ],
   "source": [
    "x"
   ]
  },
  {
   "cell_type": "code",
   "execution_count": 9,
   "metadata": {
    "collapsed": false
   },
   "outputs": [
    {
     "data": {
      "text/plain": [
       "[10, 'foo', False, 2.5]"
      ]
     },
     "execution_count": 9,
     "metadata": {},
     "output_type": "execute_result"
    }
   ],
   "source": [
    "x.append(2.5)\n",
    "x"
   ]
  },
  {
   "cell_type": "markdown",
   "metadata": {
    "collapsed": true
   },
   "source": [
    "ａｐｐｅｎｄ（）는 객체 (이경우 ｘ)에서 정의한 함수로 *메소드(method)*라고 한다. 메소드에 관하여 다시 설명하겠지만, 간단히 설명하면 리스트, 문자열 등의 Python 객체는 객체가 저장한 데이터를 다루기 위한 메소드를 갖는다. 즉 문자열 객체는 문자열 메소드, 리스트 객체는 리스트 메소드를 갖는다. \n",
    "\n",
    "리스트 메소드 ｐｏｐ（）은 마지막 원소를 제거한다. "
   ]
  },
  {
   "cell_type": "code",
   "execution_count": 10,
   "metadata": {
    "collapsed": false
   },
   "outputs": [
    {
     "data": {
      "text/plain": [
       "[10, 'foo', False, 2.5]"
      ]
     },
     "execution_count": 10,
     "metadata": {},
     "output_type": "execute_result"
    }
   ],
   "source": [
    "x"
   ]
  },
  {
   "cell_type": "code",
   "execution_count": 11,
   "metadata": {
    "collapsed": false
   },
   "outputs": [
    {
     "data": {
      "text/plain": [
       "[10, 'foo', False]"
      ]
     },
     "execution_count": 11,
     "metadata": {},
     "output_type": "execute_result"
    }
   ],
   "source": [
    "x.pop()\n",
    "x"
   ]
  },
  {
   "cell_type": "markdown",
   "metadata": {},
   "source": [
    "모든 리스트 메소드 목록을 [여기](https://docs.python.org/3/tutorial/datastructures.html#more-on-lists)에서 볼 수 있다"
   ]
  },
  {
   "cell_type": "markdown",
   "metadata": {},
   "source": [
    "C, C++, Java와 같이 Python 리스트의 첫 원소는 \"0\"부터 시작한다."
   ]
  },
  {
   "cell_type": "code",
   "execution_count": 12,
   "metadata": {
    "collapsed": false
   },
   "outputs": [
    {
     "data": {
      "text/plain": [
       "[10, 'foo', False]"
      ]
     },
     "execution_count": 12,
     "metadata": {},
     "output_type": "execute_result"
    }
   ],
   "source": [
    "x"
   ]
  },
  {
   "cell_type": "code",
   "execution_count": 13,
   "metadata": {
    "collapsed": false
   },
   "outputs": [
    {
     "data": {
      "text/plain": [
       "10"
      ]
     },
     "execution_count": 13,
     "metadata": {},
     "output_type": "execute_result"
    }
   ],
   "source": [
    "x[0]"
   ]
  },
  {
   "cell_type": "code",
   "execution_count": 14,
   "metadata": {
    "collapsed": false
   },
   "outputs": [
    {
     "data": {
      "text/plain": [
       "'foo'"
      ]
     },
     "execution_count": 14,
     "metadata": {},
     "output_type": "execute_result"
    }
   ],
   "source": [
    "x[1]"
   ]
  },
  {
   "cell_type": "markdown",
   "metadata": {},
   "source": [
    "#### For 루프"
   ]
  },
  {
   "cell_type": "markdown",
   "metadata": {},
   "source": [
    "[위의 프로그램](#loop_version)의 아래 코드에서 for 루프를 살펴보자."
   ]
  },
  {
   "cell_type": "markdown",
   "metadata": {},
   "source": [
    "for i in range(ts_length):\n",
    "    e = np.random.randn()\n",
    "    epsilon_values.append(e)"
   ]
  },
  {
   "cell_type": "markdown",
   "metadata": {},
   "source": [
    "Python은 들여 쓴 (indented) 2줄을 ts_length번 수행한다. 코드의 \"블럭\"을 반복하여 수행한다고 하여 이 두줄을 코드 블럭이라 한다. 많은 프로그래밍 언어와 다르게 Python에서는 오직 들여 씀으로서 코드 블럭의 범위를 설정한다. 프로그램에서 ｅｐｓｉｌｏｎ＿ｖａｌｕｅｓ．ａｐｐｅｎｄ（ｅ） 줄 다음 들여 씀 레벨을 줄인 것은 이 코드 블럭의 끝이라는 것을 표시하는 것이다. ｆｏｒ 루프의 다른 예로 들여 씀을 보여준다."
   ]
  },
  {
   "cell_type": "code",
   "execution_count": 15,
   "metadata": {
    "collapsed": false
   },
   "outputs": [
    {
     "name": "stdout",
     "output_type": "stream",
     "text": [
      "The plural of dog is dogs\n",
      "The plural of cat is cats\n",
      "The plural of bird is birds\n"
     ]
    }
   ],
   "source": [
    "animals = ['dog', 'cat', 'bird']\n",
    "for animal in animals:\n",
    "    print(\"The plural of \" + animal + \" is \" + animal + \"s\")"
   ]
  },
  {
   "cell_type": "markdown",
   "metadata": {},
   "source": [
    "아래 형식의 루프를 실행하면 위의 예는 for 루프를 어떻게 수행하는지 명확하게 보인다. "
   ]
  },
  {
   "cell_type": "markdown",
   "metadata": {},
   "source": [
    "<code>\n",
    "for variable_name in sequence:\n",
    "    \"code block\"\n",
    "</code>"
   ]
  },
  {
   "cell_type": "markdown",
   "metadata": {},
   "source": [
    "Python 인터프리터는 ｓｅｑｕｅｎｃｅ 각각에 대하여 ｖａｒｉａｂｌｅ＿ｎａｍｅ에 이를 바인딩하고 코드 블럭을 수행한다.  곧 살펴 보겠지만 ｓｅｑｕｅｎｃｅ 는 매우 일반적인 객체이다."
   ]
  },
  {
   "cell_type": "markdown",
   "metadata": {},
   "source": [
    "#### 코드 블럭과 들여 씀"
   ]
  },
  {
   "cell_type": "markdown",
   "metadata": {},
   "source": [
    "for 루프를 설명할 때, 들여 씀으로 반복하는 코드 블럭을 표시하였다. Python에서 (루프 내, if 절, 함수 정의 등에 나타나는) 모든 코드 블럭은 들여 씀으로 그 범위를 정한다. 따라서 다른 일반 프로그래밍 언어와는 달리 Python 코드에서 공백은 프로그램 결과에 영향을 미친다. "
   ]
  },
  {
   "cell_type": "markdown",
   "metadata": {},
   "source": [
    "처음에는 불편하겠지만 숙달되면 편리하게 느낄 것이다. Python에서 들여 쓰기는\n",
    "* 깨끗하고 일관되어 가독성을 높이며,\n",
    "* 다른 프로그래밍 언어에서 사용하는 괄호나 end 문과 같은 혼란을 제거한다. "
   ]
  },
  {
   "cell_type": "markdown",
   "metadata": {},
   "source": [
    "반대로, 약간의 주의가 필요하다.\n",
    "* 코드 블럭 시적 전 줄은 항상 다음 예와 같이 콜론(:)으로 맺어야 한다.\n",
    "    * ｆｏｒ　ｉ　ｉｎ　ｒａｎｇｅ（１０）：\n",
    "    * ｉｆ　ｘ　＞　ｙ　：\n",
    "    * while x < 100:\n",
    "    * 등 \n",
    "* 같은 코드 블럭의 모든 줄은 **동일한 들여 쓰기**를 갖어야 한다.\n",
    "* 현재 사용하고 있는 공백 4칸이 Python 표준이다."
   ]
  },
  {
   "cell_type": "markdown",
   "metadata": {},
   "source": [
    "<u>탭과 공백</u>"
   ]
  },
  {
   "cell_type": "markdown",
   "metadata": {},
   "source": [
    "가끔씩 오류를 유발하는 탭과 공백에 대하여 알아보자 (텍스트 파일에서 탭과 공백은 구별된다). 설정에서 선언하여 공백 4칸 대신 탭을 사용할 수 있다. Jupyter에서는 이것이 디폴트이다. 일반적으로 텍스트 편집기에서도 탭 대신 공백 4칸으로 설정할 수 있다."
   ]
  },
  {
   "cell_type": "markdown",
   "metadata": {},
   "source": [
    "#### While 루프"
   ]
  },
  {
   "cell_type": "markdown",
   "metadata": {},
   "source": [
    "for 루프는 반복을 위한 Python에서 사용되는 보편적인 방법이다. 그러나 while문의 설명을 위하여 [위의 프로그램](#loop_version)을 아래처럼 수정할 수 있다."
   ]
  },
  {
   "cell_type": "raw",
   "metadata": {},
   "source": [
    "import numpy as np\n",
    "import matplotlib.pyplot as plt\n",
    "\n",
    "ts_length = 100\n",
    "epsilon_values = []\n",
    "i = 0\n",
    "while i < ts_length:\n",
    "    e = np.random.randn()\n",
    "    epsilon_values.append(e)\n",
    "    i = i + 1\n",
    "plt.plot(epsilon_values, 'b-')\n",
    "plt.show()"
   ]
  },
  {
   "cell_type": "markdown",
   "metadata": {},
   "source": [
    "위의 코드에서 들여 쓰기로 ｗｈｉｌｅ　루프의 코드 블럭을 구분하며 ｉ　＝　ｉ　＋　１을 ｉ　＋＝　１로 바꾸었다."
   ]
  },
  {
   "cell_type": "markdown",
   "metadata": {},
   "source": [
    "#### <a id=\"user_defined_functions\"></a>사용자 정의 함수 (User Defined Functions)"
   ]
  },
  {
   "cell_type": "markdown",
   "metadata": {},
   "source": [
    "for 루프를 돌아 보면 명확한 논리를 위하여 프로그램을 재구성하였다. 즉 프로그램을 두 부분으로 나누었다.\n",
    "1. 난수 리스트를 생성하는 사용자 정의 함수와\n",
    "1. 데이터를 얻기 위한 함수 호출과 데이터를 플롯으로 구성한다.\n",
    "\n",
    "다음과 같이 코드를 작성할 수 있다."
   ]
  },
  {
   "cell_type": "raw",
   "metadata": {
    "collapsed": true
   },
   "source": [
    "import numpy as np\n",
    "import matplotlib.pyplot as plt\n",
    "\n",
    "def generate_data(n):\n",
    "    epsilon_values = []\n",
    "    for i in range(n):\n",
    "        e = np.random.randn()\n",
    "        epsilon_values.append(e)\n",
    "    return epsilon_values\n",
    "\n",
    "data = generate_data(100)\n",
    "plt.plot(data, 'b-')\n",
    "plt.show()"
   ]
  },
  {
   "cell_type": "markdown",
   "metadata": {},
   "source": [
    "이를 살펴보면 함수와 함수 수행에 대하며 의문을 갖을 수 있다. ｇｅｎｅｒａｔｅ＿ｄａｔａ（）라는 함수 정의에 대하여 설명한다.\n",
    "* ｄｅｆ이라는 Python 지정 단어로 함수 정의를 시작한다.\n",
    "* ｄｅｆ　ｇｅｎｅｒａｔｅ＿ｄａｔａ（ｎ）： 는 ｇｅｎｅｒａｔｅ＿ｄａｔａ로 함수를 호출하고 함수는 ｎ이라는 인수 하나를 갖는다. \n",
    "* 이전과 동일한 논리를 사용하여 난수를 발생하여 리스트를 생성하는 들여 쓴 코드는 *함수 몸체 (function body)*라는 코드 블럭이다. \n",
    "* ｒｅｔｕｒｎ 지정 단어는 호출한 코드로 반환할 객체 ｅｐｓｉｌｏｎ＿ｖａｌｕｅｓ를 표기한다. \n",
    "\n",
    "프로그램을 실행하면 Python 인터프리터는 함수 정의를 읽어 메모리에 저장한다. 인터프리터가 generate_data(100) 식을 읽으면 n값을 100으로 하여 함수 몸체를 실행한다. 결과로 함수가 반환하는 epsilon_values 리스트를 data에 연결한다. "
   ]
  },
  {
   "cell_type": "markdown",
   "metadata": {},
   "source": [
    "#### 조건 (Conditions)"
   ]
  },
  {
   "cell_type": "markdown",
   "metadata": {},
   "source": [
    "함수 generate_data()은 다소 제한 적인 기능을 갖고 있다. 필요에 따라 (0, 1) 구간에서 표준 정규 분포 또는 균일 분포를 따르는 난수를 생성할 수 있다면 더 유용할 것이다. 이렇게 수정하여 보자. "
   ]
  },
  {
   "cell_type": "raw",
   "metadata": {
    "collapsed": true
   },
   "source": [
    "import numpy as np\n",
    "import matplotlib.pyplot as plt\n",
    "\n",
    "\n",
    "def generate_data(n, generator_type):\n",
    "    epsilon_values = []\n",
    "    for i in range(n):\n",
    "        if generator_type == 'U':\n",
    "            e = np.random.uniform(0, 1)\n",
    "        else:\n",
    "            e = np.random.randn()\n",
    "        epsilon_values.append(e)\n",
    "    return epsilon_values\n",
    "\n",
    "data = generate_data(100, 'U')\n",
    "plt.plot(data, 'b-')\n",
    "plt.show()"
   ]
  },
  {
   "cell_type": "markdown",
   "metadata": {},
   "source": [
    "들여 쓰기 코드 블럭의 범위 설정을 보면 if/else 절의 구문은 자명하다.\n",
    "\n",
    "* 문자열 인수 Ｕ를 전달한다. ＇Ｕ＇로 사용하는 이유이다.\n",
    "* 동치 테스트 (eqality test)에는 ＝ 가 아닌 ＂＝＝＂를 사용한다.\n",
    "    * 예로 ａ　＝　１０ 문은 변수 ａ 가 값 １０을 가리키도록 하는 것이다.\n",
    "    * a 값에 따라 식 a == 10을 True 또는 False 값을 생성한다.\n",
    "\n",
    "위의 코드를 여러 밥법으로 간결하게 만들어 보다. 예로 함수로 바라는 생성 방법을 전달하여 <a id=\"example_1\"></a>아래 버전에서 보듯이 조건절을 없앴을 수 있다."
   ]
  },
  {
   "cell_type": "raw",
   "metadata": {
    "collapsed": true
   },
   "source": [
    "import numpy as np\n",
    "import matplotlib.pyplot as plt\n",
    "\n",
    "\n",
    "def generate_data(n, generator_type):\n",
    "    epsilon_values = []\n",
    "    for i in range(n):\n",
    "        e = generator_type()\n",
    "        epsilon_values.append(e)\n",
    "    return epsilon_values\n",
    "\n",
    "data = generate_data(100, np.random.uniform)\n",
    "plt.plot(data, 'b-')\n",
    "plt.show()"
   ]
  },
  {
   "cell_type": "markdown",
   "metadata": {},
   "source": [
    "ｎｐ．ｒａｎｄｏｍ．ｕｎｉｆｏｒｍ을 두번째 인수로 함수 ｇｅｎｅｒａｔｅ＿ｄａｔａ（）를 호출하였다. 함수 또한 객체이다. ｇｅｎｅｒａｔｅ＿ｄａｔａ（１００，　ｎｐ．ｒａｎｄｏｍ．ｕｎｉｆｏｒｍ）를 실행하면, Python은 첫번째 인수 ｎ으로 100과 두번째 인수 ｇｅｎｅｒａｔｏｒ＿ｔｙｐｅ으로 함수 ｎｐ．ｒａｎｄｏｍ．ｕｎｉｆｏｒｍ으로 값을 지정하여 함수 코드 블럭을 실행한다. ｇｅｎｅｒａｔｅ＿ｄａｔａ（１００，　ｎｐ．ｒａｎｄｏｍ．ｕｎｉｆｏｒｍ）을 실행하는 동안에는 번수 ｇｅｎｅｒａｔｏｒ＿ｔｙｐｅ과 ｎｐ．ｒａｎｄｏｍ．ｕｎｉｆｏｒｍ을 \"동의어\"로 취급하며 동일하게 사용할 수 있다.\n",
    "다음 코드는 보다 일반적인 예이다."
   ]
  },
  {
   "cell_type": "code",
   "execution_count": 1,
   "metadata": {
    "collapsed": false
   },
   "outputs": [
    {
     "data": {
      "text/plain": [
       "7"
      ]
     },
     "execution_count": 1,
     "metadata": {},
     "output_type": "execute_result"
    }
   ],
   "source": [
    "max(7, 2, 4)   # max() is a built-in Python function"
   ]
  },
  {
   "cell_type": "code",
   "execution_count": 2,
   "metadata": {
    "collapsed": false
   },
   "outputs": [
    {
     "data": {
      "text/plain": [
       "7"
      ]
     },
     "execution_count": 2,
     "metadata": {},
     "output_type": "execute_result"
    }
   ],
   "source": [
    "m = max\n",
    "m(7, 2, 4)"
   ]
  },
  {
   "cell_type": "markdown",
   "metadata": {},
   "source": [
    "위의 예에서도 같은 방법으로 붙박이 (built-in) 함수 max()를 다른 이름으로 사용하였다. 함수를 다른 변수명으로 지정할 수 있다는 것은 즉 위에서와 같이 함수를 다른 함수의 인자로 사용할 수 있음을 뜻한다."
   ]
  },
  {
   "cell_type": "markdown",
   "metadata": {},
   "source": [
    "#### 리스트 컴프리헨션  (List Comprehensions)"
   ]
  },
  {
   "cell_type": "markdown",
   "metadata": {},
   "source": [
    "리스트 컴프리헨션이라는 방법을 사용하여 난수 리스트를 발생시키는 코드를 간단히 할 수 있다. 리스트 컴프리헨션은 리스트를 만드는 Python 편리한 도구이다. 아래 예 두번째 줄 오른쪽에서 리스트 컨프리헨션을 볼 수 있다."
   ]
  },
  {
   "cell_type": "code",
   "execution_count": 3,
   "metadata": {
    "collapsed": false
   },
   "outputs": [
    {
     "data": {
      "text/plain": [
       "['dogs', 'cats', 'birds']"
      ]
     },
     "execution_count": 3,
     "metadata": {},
     "output_type": "execute_result"
    }
   ],
   "source": [
    "animals = ['dog', 'cat', 'bird']\n",
    "plurals = [animal + 's' for animal in animals]\n",
    "plurals"
   ]
  },
  {
   "cell_type": "markdown",
   "metadata": {},
   "source": [
    "다른 예를 들어보자."
   ]
  },
  {
   "cell_type": "code",
   "execution_count": 4,
   "metadata": {
    "collapsed": false
   },
   "outputs": [
    {
     "data": {
      "text/plain": [
       "range(0, 8)"
      ]
     },
     "execution_count": 4,
     "metadata": {},
     "output_type": "execute_result"
    }
   ],
   "source": [
    "range(8)"
   ]
  },
  {
   "cell_type": "code",
   "execution_count": 5,
   "metadata": {
    "collapsed": false
   },
   "outputs": [
    {
     "data": {
      "text/plain": [
       "[0, 2, 4, 6, 8, 10, 12, 14]"
      ]
     },
     "execution_count": 5,
     "metadata": {},
     "output_type": "execute_result"
    }
   ],
   "source": [
    "doubles = [2 * x for x in range(8)]\n",
    "doubles"
   ]
  },
  {
   "cell_type": "markdown",
   "metadata": {},
   "source": [
    "리스트 컴프리헨션으로 아래 코드를"
   ]
  },
  {
   "cell_type": "markdown",
   "metadata": {
    "collapsed": true
   },
   "source": [
    "epsilon_values = []\n",
    "for i in range(n):\n",
    "    e = generator_type()\n",
    "    epsilon_values.append(e)"
   ]
  },
  {
   "cell_type": "markdown",
   "metadata": {},
   "source": [
    "다름과 같이 간단하게 바꿀 수 있다"
   ]
  },
  {
   "cell_type": "markdown",
   "metadata": {
    "collapsed": true
   },
   "source": [
    "epsilon_values = [generator_type() for i in range(n)]"
   ]
  },
  {
   "cell_type": "markdown",
   "metadata": {},
   "source": [
    "### <a id=\"exercises\"> </a> 연습"
   ]
  },
  {
   "cell_type": "markdown",
   "metadata": {},
   "source": [
    "#### 1."
   ]
  },
  {
   "cell_type": "markdown",
   "metadata": {},
   "source": [
    "*n!*을 *n 계승 (factorial)*이라 읽고 *n!=n×(n−1)×⋯×2×1*로 정의한다.\n",
    "여러가지 방법으로 함수를 계산할 수 있다. 임의의 양의 정수 n에 대하여 n!을 반환하는 함수 ｆａｃｔｏｒｉａｌ（ｎ）를 작성하여라. "
   ]
  },
  {
   "cell_type": "markdown",
   "metadata": {},
   "source": [
    "#### 2."
   ]
  },
  {
   "cell_type": "markdown",
   "metadata": {},
   "source": [
    "[이항확률변수 (binomial random variable)](https://en.wikipedia.org/wiki/Binomial_distribution) $Y∼Bin(n,p)$는 성공 확률이 p인 이진 시도 (binary trials)에서 n 번의 시도에서 성공 횟수를 나타낸다. \n",
    "\n",
    "ｆｒｏｍ　ｎｕｍｐｙ．ｒａｎｄｏｍ　ｉｍｐｏｒｔ　ｕｎｉｆｏｒｍ만을 import 하여 *Y*를 생성하는 함수 ｂｉｎｏｍｉａｌ＿ｒｖ（ｎ，　ｐ）를 작성하여라. \n",
    "\n",
    "\n",
    "Hint: *U*는 0과 1 사이의 균일하게 분포하며, p 또한  0과 1 사이의 확률 값일 떄, 식 Ｕ　＜　ｐ이 Ｔｒｕｅ 값을 갖을 확률은 p이다."
   ]
  },
  {
   "cell_type": "markdown",
   "metadata": {
    "collapsed": true
   },
   "source": [
    "#### 3."
   ]
  },
  {
   "cell_type": "markdown",
   "metadata": {},
   "source": [
    "\"ｉｍｐｏｒｔ　ｎｕｍpｙ　ａｓ　ｎｐ\" 만을 사용하고 Monte Carlo 방법을 이용하여 $\\pi$의 근사치를 구하여라."
   ]
  },
  {
   "cell_type": "markdown",
   "metadata": {},
   "source": [
    "Hint: \n",
    "* $U$는 $(0, 1)^2$ 단위 사각형의 값을 갖는 이변량 균일 무작위 변수일 때, $U$가 $(0, 1)^2$의 부분 집합 $B$에 있을 확률은 $B$의 면적과 같다.\n",
    "* $U_1,\\ldots,U_n$이 $U$의 독립항등분포 (iid, independent and identically distributed)라 할때, $n$이 충분히 크다면 $B$에 들어갈 비율은 $B$에 도달 할 확률로 수렴한다.\n",
    "* 원 $B$의 면적 area = pi$*$radius^2"
   ]
  },
  {
   "cell_type": "markdown",
   "metadata": {},
   "source": [
    "#### 4."
   ]
  },
  {
   "cell_type": "markdown",
   "metadata": {},
   "source": [
    "\"ｆｒｏｍ　ｎｕｍｐｙ．ｒａｎｄｏｍ　ｉｍｐｏｒｔ　ｕｎｉｆｏｒｍ\" 만을 사용하여 아래와 같은 기능을 하는 무작위 장치의 결과를 출력하는 프로그램을 작성하여라.\n",
    "* 동전을 10번 던진다.\n",
    "* 결과에서 3연속 앞면이 일회 이상 나온다면 1,000을 지불한다.\n",
    "* 그렇지 않으면 지불하지 않는다."
   ]
  },
  {
   "cell_type": "markdown",
   "metadata": {},
   "source": [
    "#### 5."
   ]
  },
  {
   "cell_type": "markdown",
   "metadata": {},
   "source": [
    "아래 import문 만을 사용하여 상관된 시계열을 모사하는 프로그램을 작성하여라. \n",
    "\n",
    "$x_{t+1} = \\alpha \\, x_t + \\epsilon_{t+1}\n",
    "\\quad \\text{where} \\quad\n",
    "x_0 = 0\n",
    "\\quad \\text{and} \\quad t = 0,\\ldots,T$\n",
    "\n",
    "충격 순서 ${εt}$ 는 독립항등분포와 정규분포를 따르며 $T$와 $\\alpha$는 각각 200과 0.9이다. "
   ]
  },
  {
   "cell_type": "markdown",
   "metadata": {},
   "source": [
    "import numpy as np\n",
    "import matplotlib.pyplot as plt"
   ]
  },
  {
   "cell_type": "markdown",
   "metadata": {},
   "source": [
    "#### 6."
   ]
  },
  {
   "cell_type": "markdown",
   "metadata": {},
   "source": [
    "그림에서 설명 작성 방법을 다음 예를 통하여 살펴본다. "
   ]
  },
  {
   "cell_type": "code",
   "execution_count": 2,
   "metadata": {
    "collapsed": false
   },
   "outputs": [
    {
     "data": {
      "image/png": "[encoded data removed]",
      "text/plain": [
       "<matplotlib.figure.Figure at 0x117a05278>"
      ]
     },
     "metadata": {},
     "output_type": "display_data"
    }
   ],
   "source": [
    "import numpy as np\n",
    "import matplotlib.pyplot as plt\n",
    "%matplotlib inline\n",
    "\n",
    "x = [np.random.randn() for i in range(100)]\n",
    "plt.plot(x, 'b-', label=\"white noise\")\n",
    "plt.legend()\n",
    "plt.show()"
   ]
  },
  {
   "cell_type": "markdown",
   "metadata": {},
   "source": [
    "문제 5에서 작성한 프로그램에서 $\\alpha=0$, $\\alpha=0.8$, $\\alpha=0.98$ 각 경우에 대하여 시계열 모사 결과를 아래와 같이 그리는 프로그램을 작성하여라. "
   ]
  },
  {
   "cell_type": "markdown",
   "metadata": {},
   "source": [
    "![](Figures1/pythonfig1-3-2.png)\n",
    "(출처: https://lectures.quantecon.org/py/python_by_example.html)"
   ]
  },
  {
   "cell_type": "markdown",
   "metadata": {},
   "source": [
    "$\\alpha$ 값에 따라 단계별로 ｆｏｒ 루프를 이용한다. \n",
    "\n",
    "* 함수 ｐｌｏｔ（） 여러번 호출한 뒤 ｓｈｏｗ（）를 호출하면 위에서와 같은 동일한 선으로 이루어진 그림을 얻을 수 있다. \n",
    "    * 인수 plot 함수에서 'b-'를 빠뜨리면, Matplotlib가 자동으로 색을 선택한다.\n",
    "* 식 'foo' + str(42)를 'foo42'로 계산한다."
   ]
  }
 ],
 "metadata": {
  "anaconda-cloud": {},
  "kernelspec": {
   "display_name": "Python 3",
   "language": "python",
   "name": "python3"
  },
  "language_info": {
   "codemirror_mode": {
    "name": "ipython",
    "version": 3
   },
   "file_extension": ".py",
   "mimetype": "text/x-python",
   "name": "python",
   "nbconvert_exporter": "python",
   "pygments_lexer": "ipython3",
   "version": "3.6.0"
  }
 },
 "nbformat": 4,
 "nbformat_minor": 2
}
