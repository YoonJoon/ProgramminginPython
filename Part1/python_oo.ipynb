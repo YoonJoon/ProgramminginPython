{
 "cells": [
  {
   "cell_type": "markdown",
   "metadata": {},
   "source": [
    "## 5. 객체 지향 프로그래밍 (Object Oriented Programming)"
   ]
  },
  {
   "cell_type": "markdown",
   "metadata": {},
   "source": [
    "* [개요](#overview)\n",
    "* [객체 지향 프로그래밍](#about_oop)\n",
    "* [클래스 만들기](#define_classes)\n",
    "* [특별한 메소드](#special_methods)\n",
    "* [연습](#exercises)"
   ]
  },
  {
   "cell_type": "markdown",
   "metadata": {},
   "source": [
    "### <a id=\"overview\">개요</a>"
   ]
  },
  {
   "cell_type": "markdown",
   "metadata": {},
   "source": [
    "[OOP](https://en.wikipedia.org/wiki/Object-oriented_programming)는 Python이 지원하는 주된 프로그래밍 파라다임 중 하나이다. OOP는  \n",
    "명확하고 효율적인 코드 작성을 용이하도록 하며 많은 프로그래밍 문제에 적합한 OOP 디자인 패턴 (design pattern)를 지원함으로써 소프트웨어 공학 분야에서 중요한 개념으로 자리 잡고 있다. OOP는 생산성을 결정하는 중요한 요소인 잘 짜여진 코드를 작성하기 위한 것이다. Python은 OOP 개념을 지원하므로 이에 대한 기초적인 이해가 필요하다."
   ]
  },
  {
   "cell_type": "markdown",
   "metadata": {},
   "source": [
    "### <a id=\"about_oop\">객체 지향 프로그래밍</a>"
   ]
  },
  {
   "cell_type": "markdown",
   "metadata": {},
   "source": [
    "많은 프로그래밍언에서 OOP를 지원하고 있다. \n",
    "* Java와 Ruby는 비교적 순수한 OOP을 지원하고 있다.\n",
    "* Python은 절차적 (procedural)과 객체 지향 프로그래밍 두가지 모두 지원한다. \n",
    "* Fortran과 MATLAB은 최근들어 OOP 개념을 도입하고 있지만 근본적으로 절차적 프로그래밍 언어이다.\n",
    "* C는 절차적 프로그래밍 언어이지만 C++는 C에 OOP 개념을 추가한 것이다.\n",
    "\n",
    "Python의 OOP를 설명하기 앞서 일반적인 개념에 대하여 알아보자."
   ]
  },
  {
   "cell_type": "markdown",
   "metadata": {},
   "source": [
    "#### 주요 개념"
   ]
  },
  {
   "cell_type": "markdown",
   "metadata": {},
   "source": [
    "전통적인 (non-OOP) 파라다임을 절차적(procedural) 이라 하며 다음과 같이 작동한다.\n",
    "* 프로그램의 변수들 값으로 그 상태를 저장 한다.\n",
    "* 작업에 따라 데이터에 연산을 수행하기 위하여 함수를 호출한다.\n",
    "* 함수 호출을 통하여 데이터를 이동시킨다.\n",
    "\n",
    "OOP 파라다임에서는 대조적으로 데이터와 함수를 \"객체(object)\"에 **함께 묶었다**. 예로 데이터를 저장하고 있을 뿐만 아니라 정렬 함수를 갖고 있는 Python 리스트를 들 수 있다. "
   ]
  },
  {
   "cell_type": "code",
   "execution_count": 1,
   "metadata": {
    "collapsed": false
   },
   "outputs": [
    {
     "data": {
      "text/plain": [
       "[1, 4, 5]"
      ]
     },
     "execution_count": 1,
     "metadata": {},
     "output_type": "execute_result"
    }
   ],
   "source": [
    "x = [1, 5, 4]\n",
    "x.sort()\n",
    "x"
   ]
  },
  {
   "cell_type": "markdown",
   "metadata": {
    "collapsed": true
   },
   "source": [
    "위에서 ｓｏｒｔ는 리스트 객체의 \"부분\"인 함수이다. OOP에서는 통상적으로 함수를 메소드라 한다. (즉, ｓｏｒｔ는 리스트 메소드이다.)"
   ]
  },
  {
   "cell_type": "markdown",
   "metadata": {},
   "source": [
    "#### 표준 용어 (Standard Terminology)"
   ]
  },
  {
   "cell_type": "markdown",
   "metadata": {},
   "source": [
    "*클래스 정의*는 객체 (리스트, 문자열, 복소수)의 클래스를 위한 청사진으로 다음을 기술하고 있다.\n",
    "* 클래스가 저장하는 데이터\n",
    "* 이 데이터에 수행하는 메소드\n",
    "\n",
    "객체 또는 인스턴스(instance)는 청사진인 클래스가 생성한 클래스의 실체이다. 따라서\n",
    "* 각 인스턴스는 자신만의 데이터를 갖으며,\n",
    "* 클래스에서 정의하고 있는 이 데이터에 수행하는 메소드를 호출할 수 있도록 한다.\n",
    "\n",
    "Python에서는 데이터와 메소드를 함께 속성(attributes)라 하기도 하며 \"dotted attribute notation\"을 통하여 이를 접근할 수 있다. \n",
    "* ｏｂｊｅｃｔ＿ｎａｍｅ．ｄａｔａ\n",
    "* ｏｂｊｅｃｔ＿ｎａｍｅ．ｍｅｔｈｏｄ＿ｎａｍｅ（）"
   ]
  },
  {
   "cell_type": "code",
   "execution_count": 2,
   "metadata": {
    "collapsed": false
   },
   "outputs": [
    {
     "data": {
      "text/plain": [
       "list"
      ]
     },
     "execution_count": 2,
     "metadata": {},
     "output_type": "execute_result"
    }
   ],
   "source": [
    "x = [1, 5, 4]\n",
    "x.sort()\n",
    "x.__class__"
   ]
  },
  {
   "cell_type": "markdown",
   "metadata": {},
   "source": [
    "* ｘ 는 객체 또는 인스턴스이며, Python 리스트 정의에서 초기 데이터를 갖고 생성되었다. \n",
    "* ｘ．ｓｏｒｔ（）와 ｘ．＿＿ｃｌａｓｓ＿＿는 x의 속성이다.\n",
    "* ｄｉｒ（ｘ）를 사용하여 ｘ의 모든 속성을 볼 수 있다."
   ]
  },
  {
   "cell_type": "markdown",
   "metadata": {},
   "source": [
    "#### OOP가 유용한 이유"
   ]
  },
  {
   "cell_type": "markdown",
   "metadata": {},
   "source": [
    "공통 구조를 인식하고 개발하는데에 추상화가 유용한 것처럼 OOP도 유용하다. \n",
    "* *일반 평형 이론 (general equilibrium theory)*은 상품 공간, 기호, 기술과 평형정의로 이루어진다.\n",
    "* *게임*은 플레이어, 각 플레이어가 취할 수 있는 행동, 그 행동에 대한 모든 플레이어의 행동 결과와 타이밍 프로토콜로 구성된다.\n",
    "\n",
    "윈도우를 사용하는 컴퓨터 데스크탐 환경은 OOP의 모든 경우 적용되는 곳이다. 각 윈도우는 공통의 기능과 개별 데이터를 갖고 있어 OOP로 구현하기에 적절하다. \n",
    "* 개별 데이터: 윈도우에 보이는 컨텐트\n",
    "* 공통 기능: 닫기, 크게 보기 등\n",
    "\n",
    "개별 윈도우 \"인스턴스\"가 필요로 하는 데이타로 클래스 정의를 사용하여 각각의 윈도우를 객체로 생성한다. 메소드 집합으로 공통 기능을 구현하며 이를 모든 객체들이 공유한다. "
   ]
  },
  {
   "cell_type": "markdown",
   "metadata": {},
   "source": [
    "**데이터 캡슐화 (Data Encapsulation)**\n",
    "\n",
    "데이터 캡슐화는 OOP의 중요한 특징이다. 데이터 갭슐화는 변수를 직접 접근하는 대신 \"숨기는(hiding)\" 것을 뜻한다. 충돌을 빈번히 발생시킬 수 있는 전역 이름공간(namespace)에서의 변수 정의를 대치할 수 있다. 전역 이름공간의 변수명은 앞에 dot 없이 변수명을 사용하는 것으로 볼 수 있다."
   ]
  },
  {
   "cell_type": "markdown",
   "metadata": {},
   "source": [
    "**예 : ** 모듈 os와 sys는 모두 path라는 다른 속성을 정의하고 있다. 다음 코드는 충돌을 일으키다. "
   ]
  },
  {
   "cell_type": "markdown",
   "metadata": {},
   "source": [
    "<code>\n",
    "from os import path\n",
    "from sys import path\n",
    "</code>"
   ]
  },
  {
   "cell_type": "markdown",
   "metadata": {},
   "source": [
    "두 변수는 모두 전역 이름공간에 존재하며 두번째가 첫번째를 가리게 된다. 따라서 아래와 같이 바꾸고"
   ]
  },
  {
   "cell_type": "markdown",
   "metadata": {},
   "source": [
    "<code>\n",
    "import os\n",
    "import sys\n",
    "</code>"
   ]
  },
  {
   "cell_type": "markdown",
   "metadata": {},
   "source": [
    "ｐａｔｈ를 ｏｓ．ｐａｔｈ 또는 ｓｙｓ．ｐａｔｈ로 변경하는 것이다. 이 예가 모듈이 데이터 캠슐화의 수단으로 사용될 수 있음을 보이고 있다. "
   ]
  },
  {
   "cell_type": "markdown",
   "metadata": {},
   "source": [
    "### <a id=\"define_classes\">클래스 만들기</a>"
   ]
  },
  {
   "cell_type": "markdown",
   "metadata": {},
   "source": [
    "### <a id=\"special_methods\">특별한 메소드</a>"
   ]
  },
  {
   "cell_type": "markdown",
   "metadata": {},
   "source": [
    "### <a id=\"exercises\">연습</a>"
   ]
  },
  {
   "cell_type": "code",
   "execution_count": null,
   "metadata": {
    "collapsed": true
   },
   "outputs": [],
   "source": []
  }
 ],
 "metadata": {
  "anaconda-cloud": {},
  "kernelspec": {
   "display_name": "Python 3",
   "language": "python",
   "name": "python3"
  },
  "language_info": {
   "codemirror_mode": {
    "name": "ipython",
    "version": 3
   },
   "file_extension": ".py",
   "mimetype": "text/x-python",
   "name": "python",
   "nbconvert_exporter": "python",
   "pygments_lexer": "ipython3",
   "version": "3.6.0"
  }
 },
 "nbformat": 4,
 "nbformat_minor": 0
}
