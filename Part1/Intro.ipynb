{
 "cells": [
  {
   "cell_type": "markdown",
   "metadata": {},
   "source": [
    "Part 1: Python 프로그래밍\n",
    "----------------------"
   ]
  },
  {
   "cell_type": "markdown",
   "metadata": {},
   "source": [
    "학부에서 경제학을 전공하였으며 프로그램밍에 경험이 없는 딸에게 Python Programming을 누구(?)처럼 가르쳐 주기 위하여 작성한 것이다."
   ]
  },
  {
   "cell_type": "markdown",
   "metadata": {},
   "source": [
    "이 글은 Thomas J. Sargent와 John Stachurski의 [Quantitative Economics](https://lectures.quantecon.org/py/) 페이지를 바탕으로 하여 작성하였다."
   ]
  },
  {
   "cell_type": "markdown",
   "metadata": {},
   "source": [
    "\n",
    "![](Figures1/pythonfig1-1-1.png)\n",
    "(출처: https://xkcd.com/353/)\n"
   ]
  },
  {
   "cell_type": "markdown",
   "metadata": {},
   "source": [
    "__목차__\n",
    "1. [Python에 대하여](https://github.com/YoonJoon/ProgramminginPython/blob/master/Part1/about_Python.ipynb)\n",
    "1. [Python 사용 환경 만들기](https://github.com/YoonJoon/ProgramminginPython/blob/master/Part1/setting_up.ipynb)"
   ]
  },
  {
   "cell_type": "code",
   "execution_count": null,
   "metadata": {
    "collapsed": true
   },
   "outputs": [],
   "source": []
  }
 ],
 "metadata": {
  "anaconda-cloud": {},
  "kernelspec": {
   "display_name": "Python [Root]",
   "language": "python",
   "name": "Python [Root]"
  },
  "language_info": {
   "codemirror_mode": {
    "name": "ipython",
    "version": 3
   },
   "file_extension": ".py",
   "mimetype": "text/x-python",
   "name": "python",
   "nbconvert_exporter": "python",
   "pygments_lexer": "ipython3",
   "version": "3.5.2"
  }
 },
 "nbformat": 4,
 "nbformat_minor": 0
}
