{
 "cells": [
  {
   "cell_type": "markdown",
   "metadata": {},
   "source": [
    "## 핵심 Python"
   ]
  },
  {
   "cell_type": "markdown",
   "metadata": {},
   "source": [
    "* [개요](#overview)\n",
    "* [데이터 타입](#data_type)\n",
    "* [Imports](#imports)\n",
    "* [입출력 (Input and Output)](#input_and_output)\n",
    "* [반복](#iterating)\n",
    "* [비교와 논리 연산자](#comparisons)\n",
    "* [함수](#more_functions)\n",
    "* [코딩 스타일과 PEP8](#coding_style)\n",
    "* [연습](#exercises)\n",
    "\n",
    "이장에서는 Python 코드를 읽고 작성하기 위한 기초적인 기능을 살펴본다."
   ]
  },
  {
   "cell_type": "markdown",
   "metadata": {},
   "source": [
    "### <a id=\"overview\"></a> 개요"
   ]
  },
  {
   "cell_type": "markdown",
   "metadata": {},
   "source": [
    "이장에서는 다음 내용을 다른다.\n",
    "* 데이터 타입\n",
    "* import 문\n",
    "* 파일 입출력 기초\n",
    "* Python에서의 반복\n",
    "* 사용자 정의 함수\n",
    "* 비교와 논리 연산자\n",
    "* 표준 Python 코드 스타일"
   ]
  },
  {
   "cell_type": "markdown",
   "metadata": {},
   "source": [
    "### <a id=\"data_type\"></a>데이터 타입"
   ]
  },
  {
   "cell_type": "markdown",
   "metadata": {},
   "source": [
    "문자열, 정수형, 실수형과 리스트과 같은 기본적인 데이터 타입을 이미 간단하게 살펴 보았다. 이제 조금 더 자세히 배워 본다."
   ]
  },
  {
   "cell_type": "markdown",
   "metadata": {},
   "source": [
    "#### 원시 데이터 타입"
   ]
  },
  {
   "cell_type": "markdown",
   "metadata": {},
   "source": [
    " Ｔｒｕｅ 또는 Ｆａｌｓｅ인 불리언 값은 가장 간단한 데이터 타입이다."
   ]
  },
  {
   "cell_type": "code",
   "execution_count": null,
   "metadata": {
    "collapsed": false
   },
   "outputs": [],
   "source": [
    "x = True\n",
    "y = 100 < 10   # Python evaluates expression on right and assigns it to y\n",
    "y"
   ]
  },
  {
   "cell_type": "code",
   "execution_count": null,
   "metadata": {
    "collapsed": false
   },
   "outputs": [],
   "source": [
    "type(y)"
   ]
  },
  {
   "cell_type": "markdown",
   "metadata": {},
   "source": [
    "수식에서 Ｔｒｕｅ 는 1로 Ｆａｌｓｅ는 0으로 변환된다."
   ]
  },
  {
   "cell_type": "code",
   "execution_count": null,
   "metadata": {
    "collapsed": false
   },
   "outputs": [],
   "source": [
    "x + y"
   ]
  },
  {
   "cell_type": "code",
   "execution_count": null,
   "metadata": {
    "collapsed": false
   },
   "outputs": [],
   "source": [
    "x * y"
   ]
  },
  {
   "cell_type": "code",
   "execution_count": null,
   "metadata": {
    "collapsed": false
   },
   "outputs": [],
   "source": [
    "True + True"
   ]
  },
  {
   "cell_type": "code",
   "execution_count": null,
   "metadata": {
    "collapsed": false
   },
   "outputs": [],
   "source": [
    "bools = [True, True, False, True] # List of Boolean values\n",
    "\n",
    "sum(bools)"
   ]
  },
  {
   "cell_type": "markdown",
   "metadata": {},
   "source": [
    "*불리언 산수 (boolean arithmetic)*이라 하며 프로그램을 작성할 때 유용하게 사용된다."
   ]
  },
  {
   "cell_type": "markdown",
   "metadata": {},
   "source": [
    "정수형과 실수형은 수를 표시하는 가장 보편적인 방법이다."
   ]
  },
  {
   "cell_type": "code",
   "execution_count": null,
   "metadata": {
    "collapsed": false
   },
   "outputs": [],
   "source": [
    "a, b = 1, 2\n",
    "c, d = 2.5, 10.0\n",
    "type(a)"
   ]
  },
  {
   "cell_type": "code",
   "execution_count": null,
   "metadata": {
    "collapsed": false
   },
   "outputs": [],
   "source": [
    "type(c)"
   ]
  },
  {
   "cell_type": "markdown",
   "metadata": {},
   "source": [
    "실수형을 표현하기 위하여 보다 많은 비트(bits)가 필요한 반면 정수형의 계산은 보다 간단하므로 컴퓨터에서 정수형과 실수형 수를 다른 타입으로 구별한다. (**주의** 아직 2.X를 사용하고 있다면 두 정수의 나눗셈 결과로 정수형을 반환한다.)\n",
    "\n",
    "![](Figures1/pythonfig1-4-1.png)"
   ]
  },
  {
   "cell_type": "code",
   "execution_count": null,
   "metadata": {
    "collapsed": false
   },
   "outputs": [],
   "source": [
    "1 / 2       # Integer division in Python 3+"
   ]
  },
  {
   "cell_type": "code",
   "execution_count": null,
   "metadata": {
    "collapsed": false
   },
   "outputs": [],
   "source": [
    "1 // 2       # Integer division in Python 3+"
   ]
  },
  {
   "cell_type": "markdown",
   "metadata": {},
   "source": [
    "아래의 문장은 다른 Python 버전에서도 동일한 결과를 얻는다."
   ]
  },
  {
   "cell_type": "code",
   "execution_count": null,
   "metadata": {
    "collapsed": false
   },
   "outputs": [],
   "source": [
    "1.0 / 2.0   # Floating point division"
   ]
  },
  {
   "cell_type": "code",
   "execution_count": null,
   "metadata": {
    "collapsed": false
   },
   "outputs": [],
   "source": [
    "1.0 / 2     # Floating point division"
   ]
  },
  {
   "cell_type": "markdown",
   "metadata": {},
   "source": [
    "Python에서 원시 데이터 타입으로 복소수형이 있다."
   ]
  },
  {
   "cell_type": "code",
   "execution_count": null,
   "metadata": {
    "collapsed": false
   },
   "outputs": [],
   "source": [
    "x = complex(1, 2)\n",
    "y = complex(2, 1)\n",
    "x * y"
   ]
  },
  {
   "cell_type": "markdown",
   "metadata": {},
   "source": [
    "원시 데이터 타입이 더 있으나 필요에 따라 그때 그때 설명하도록 한다."
   ]
  },
  {
   "cell_type": "markdown",
   "metadata": {},
   "source": [
    "#### Container"
   ]
  },
  {
   "cell_type": "markdown",
   "metadata": {},
   "source": [
    "이미 설명한 리스트와 같이 (다른 데이터 타입의) 데이터를 컬렉션으로 저장하기 위하여 Python은 기본적인 다양한 데이터 타입을 갖고 있다. 튜플(tuple)은 원소를 수정할 수 없는 (immutable) 리스트이다."
   ]
  },
  {
   "cell_type": "code",
   "execution_count": null,
   "metadata": {
    "collapsed": false
   },
   "outputs": [],
   "source": [
    "x = ('a', 'b')  # Round brackets instead of the square brackets\n",
    "x = 'a', 'b'   # Or no brackets at all---the meaning is identical\n",
    "x"
   ]
  },
  {
   "cell_type": "code",
   "execution_count": null,
   "metadata": {
    "collapsed": false
   },
   "outputs": [],
   "source": [
    "type(x)"
   ]
  },
  {
   "cell_type": "markdown",
   "metadata": {},
   "source": [
    "Python에서 객체를 생성한 후 변경할 수 없는 객체를 immutable 객체라고 한다. 리스트는 mutable인 반면 튜플은 그렇디 아니하다."
   ]
  },
  {
   "cell_type": "code",
   "execution_count": null,
   "metadata": {
    "collapsed": false
   },
   "outputs": [],
   "source": [
    "x = [1, 2]  # Lists are mutable\n",
    "x[0] = 10   # Now x = [10, 2], so the list has \"mutated\"\n",
    "x"
   ]
  },
  {
   "cell_type": "code",
   "execution_count": null,
   "metadata": {
    "collapsed": false
   },
   "outputs": [],
   "source": [
    "x = (1, 2)  # Tuples are immutable\n",
    "x[0] = 10   # Trying to mutate them produces an error\n",
    "x"
   ]
  },
  {
   "cell_type": "markdown",
   "metadata": {},
   "source": [
    "mutable과 immutable에 대하여 그리고 이 특징이 왜 중요한 가에 대하여 조금 뒤 자세하게 설명할 것이다. 튜플과 리스트를 다음과 같이 풀(unpack) 수 있다."
   ]
  },
  {
   "cell_type": "code",
   "execution_count": null,
   "metadata": {
    "collapsed": false
   },
   "outputs": [],
   "source": [
    "integers = (10, 20, 30)\n",
    "x, y, z = integers\n",
    "x"
   ]
  },
  {
   "cell_type": "code",
   "execution_count": null,
   "metadata": {
    "collapsed": false
   },
   "outputs": [],
   "source": [
    "y"
   ]
  },
  {
   "cell_type": "markdown",
   "metadata": {},
   "source": [
    "예를 이미 [앞](https://github.com/YoonJoon/ProgramminginPython/blob/master/Part1/about_Python.ipynb#tuple-unpacking-example)에서 보았다. 튜플 unpacking은 편리하여 앞으로 자주 사용할 것이다."
   ]
  },
  {
   "cell_type": "markdown",
   "metadata": {},
   "source": [
    "#### Slice 표기법"
   ]
  },
  {
   "cell_type": "markdown",
   "metadata": {},
   "source": [
    "Python의 slice 표기법을 사용하여 리스트와 튜플의 다수 요소 (elements)를 추출할 수 있다. 예로"
   ]
  },
  {
   "cell_type": "code",
   "execution_count": null,
   "metadata": {
    "collapsed": false
   },
   "outputs": [],
   "source": [
    "a = [2, 4, 6, 8]\n",
    "a[1:]"
   ]
  },
  {
   "cell_type": "code",
   "execution_count": null,
   "metadata": {
    "collapsed": false
   },
   "outputs": [],
   "source": [
    "a[1:3]"
   ]
  },
  {
   "cell_type": "markdown",
   "metadata": {},
   "source": [
    "ａ［ｍ：ｎ］은 ａ［ｍ］부터 ｍ　－　ｎ 요소를 추출한다. 또한 색인으로 음수를 사용할 수 있다."
   ]
  },
  {
   "cell_type": "code",
   "execution_count": null,
   "metadata": {
    "collapsed": false
   },
   "outputs": [],
   "source": [
    "a[-2:]  # Last two elements of the list"
   ]
  },
  {
   "cell_type": "markdown",
   "metadata": {},
   "source": [
    "튜플과 문자열에 slice 표기법을 동일하게 적용할 수 있다."
   ]
  },
  {
   "cell_type": "code",
   "execution_count": null,
   "metadata": {
    "collapsed": false
   },
   "outputs": [],
   "source": [
    "s = 'foobar'\n",
    "s[-3:]  # Select the last three elements"
   ]
  },
  {
   "cell_type": "markdown",
   "metadata": {},
   "source": [
    "#### Set 과 Dictionary"
   ]
  },
  {
   "cell_type": "markdown",
   "metadata": {
    "collapsed": true
   },
   "source": [
    "다른 두 컨테이너 타입으로 [set](https://docs.python.org/3/tutorial/datastructures.html#sets)과 [dictionary](https://docs.python.org/3/tutorial/datastructures.html#dictionaries)가 있다. dictionary는 리스트와 비슷하나 원소를 번호로 지정하는 대신 이름으로 지정한다. "
   ]
  },
  {
   "cell_type": "code",
   "execution_count": null,
   "metadata": {
    "collapsed": false
   },
   "outputs": [],
   "source": [
    "d = {'name': 'Frodo', 'age': 33}\n",
    "type(d)"
   ]
  },
  {
   "cell_type": "code",
   "execution_count": null,
   "metadata": {
    "collapsed": false
   },
   "outputs": [],
   "source": [
    "d['age']"
   ]
  },
  {
   "cell_type": "markdown",
   "metadata": {
    "collapsed": true
   },
   "source": [
    "＇ｎａｍｅ＇과 ＇ａｇｅ＇를 키라고 하고 ＇Ｆｒｏｄｏ＇ 와 ３３을 값이라 한다. set는 중복과 순서가 없는 콜렉션으로 통산적인 집합 연산자를 메소드로 갖는다."
   ]
  },
  {
   "cell_type": "code",
   "execution_count": null,
   "metadata": {
    "collapsed": false
   },
   "outputs": [],
   "source": [
    "s1 = {'a', 'b'}\n",
    "type(s1)"
   ]
  },
  {
   "cell_type": "code",
   "execution_count": null,
   "metadata": {
    "collapsed": false
   },
   "outputs": [],
   "source": [
    "s2 = {'b', 'c'}\n",
    "s1.issubset(s2)"
   ]
  },
  {
   "cell_type": "code",
   "execution_count": null,
   "metadata": {
    "collapsed": false
   },
   "outputs": [],
   "source": [
    "s1.intersection(s2)"
   ]
  },
  {
   "cell_type": "markdown",
   "metadata": {},
   "source": [
    "\n",
    "함수 ｓｅｔ（）은 sequence에서 set을 생성한다."
   ]
  },
  {
   "cell_type": "code",
   "execution_count": null,
   "metadata": {
    "collapsed": false
   },
   "outputs": [],
   "source": [
    "s3 = set(('foo', 'bar', 'foo'))\n",
    "s3"
   ]
  },
  {
   "cell_type": "markdown",
   "metadata": {},
   "source": [
    "### <a id=\"imports\"></a>Imports"
   ]
  },
  {
   "cell_type": "markdown",
   "metadata": {},
   "source": [
    "작은 언어 핵심과 부가 기능을 별도의 *라이브러리* 나 *모듈*로 구성한다는 원칙을 갖고 시작부터 Python을 설계하였다. \n",
    "예를 들면, 임의의 수의 제곱근을 계산하는 함수는 Python에 내재되어 있지 않고, 대신 *모듈* (이 경우 ｍａｔｈ)의 기능을 import한다."
   ]
  },
  {
   "cell_type": "code",
   "execution_count": null,
   "metadata": {
    "collapsed": false
   },
   "outputs": [],
   "source": [
    "import math\n",
    "\n",
    "math.sqrt(4)"
   ]
  },
  {
   "cell_type": "markdown",
   "metadata": {},
   "source": [
    "[앞](https://github.com/YoonJoon/ProgramminginPython/blob/master/Part1/intro_Ex.ipynb#import)에서 import의 역학에 대하여 설명하였다. ｍａｔｈ 모듈은 Python 배포판이 포함하고 있는 [표준 라이브러리 (standard library)](https://docs.python.org/3/library/)에 포함되어 있다. 반대로 나중에 사용할 예정인 과학계산용 라이브러리는 표준 라이브러리에 포함되어 있지 않다. "
   ]
  },
  {
   "cell_type": "code",
   "execution_count": null,
   "metadata": {
    "collapsed": false
   },
   "outputs": [],
   "source": [
    "from math import *\n",
    "\n",
    "sqrt(4)"
   ]
  },
  {
   "cell_type": "markdown",
   "metadata": {},
   "source": [
    "'ｆｒｏｍ　ｍａｔｈ　ｉｍｐｏｒｔ　＊'는 pulls all of the functionality of ｍａｔｈ 모듈의 모든 기능을 현재 \"namespace\" (이 개념은 [향 후](https://github.com/YoonJoon/ProgramminginPython/blob/master/Part1/python_foundations.html#name-res) 정의한다.)로 가져오는 것이다. 그러나 실제에 있어서는 사용을 가급적 피하여야 한다. 왜냐하면 명시적인 선언 없이 많은 변수 이름을 가져옴으로써 이름 충돌의 단초를 제공할 수 있기 때문이다. "
   ]
  },
  {
   "cell_type": "markdown",
   "metadata": {},
   "source": [
    "### <a id=\"input_and_output\"></a>입출력 ( Input and Output)"
   ]
  },
  {
   "cell_type": "markdown",
   "metadata": {},
   "source": [
    "간략하게 텍스트 파일을 읽고 쓰는 기초적인 파일 입출력에 대하여 알아보자."
   ]
  },
  {
   "cell_type": "markdown",
   "metadata": {},
   "source": [
    "#### Input and Output"
   ]
  },
  {
   "cell_type": "markdown",
   "metadata": {},
   "source": [
    "쓰기부터 시작한다."
   ]
  },
  {
   "cell_type": "code",
   "execution_count": null,
   "metadata": {
    "collapsed": true
   },
   "outputs": [],
   "source": [
    "f = open('newfile.txt', 'w')   # Open 'newfile.txt' for writing\n",
    "f.write('Testing\\n')           # Here '\\n' means new line\n",
    "f.write('Testing again')\n",
    "f.close()"
   ]
  },
  {
   "cell_type": "markdown",
   "metadata": {},
   "source": [
    "* 내장 함수 ｏｐｅｎ（）은 텍스트를 기록할 파일 객체를 생성한다.\n",
    "* ｗｒｉｔｅ（） 과 ｃｌｏｓｅ（）는 파일 객체의 메소드이다. \n",
    "\n",
    "파일을 현재 작업 디렉토리 (pwd)에 생성한다. IPython 또는 Jupyter notebook에서 아래 명령어로 pwd를 찾을 수 있다."
   ]
  },
  {
   "cell_type": "code",
   "execution_count": null,
   "metadata": {
    "collapsed": false
   },
   "outputs": [],
   "source": [
    "import os\n",
    "print(os.getcwd())"
   ]
  },
  {
   "cell_type": "code",
   "execution_count": null,
   "metadata": {
    "collapsed": false
   },
   "outputs": [],
   "source": [
    "%pwd"
   ]
  },
  {
   "cell_type": "markdown",
   "metadata": {},
   "source": [
    "저장할 디렉토리를 지정하지 않으면 pwd에 저장한다.\n",
    "이제 현재 작업 디렉토리에 파일 ｎｅｗｆｉｌｅ．ｔｘｔ가 있는지 파일 브라우저 등을 이용하여 확인하여 보자. \n",
    "\n",
    "아래와 같이 Python에서 ｎｅｗｌｉｎｅ．ｔｘｔ를 읽을 수 있다. "
   ]
  },
  {
   "cell_type": "code",
   "execution_count": null,
   "metadata": {
    "collapsed": false
   },
   "outputs": [],
   "source": [
    "f = open('newfile.txt', 'r')\n",
    "out = f.read()\n",
    "out"
   ]
  },
  {
   "cell_type": "code",
   "execution_count": null,
   "metadata": {
    "collapsed": false
   },
   "outputs": [],
   "source": [
    "print(out)"
   ]
  },
  {
   "cell_type": "markdown",
   "metadata": {},
   "source": [
    "#### 경로 (Paths)"
   ]
  },
  {
   "cell_type": "markdown",
   "metadata": {},
   "source": [
    "파일 ｎｅｗｆｉｌｅ．ｔｘｔ 이 현재 작업 디렉토리에 없다면  ｏｐｅｎ（） 호출은 실패하고 오류를 발생한다. 이때에는 파일의 [경로](https://en.wikipedia.org/wiki/Path_%28computing%29)를 지정하여야 한다. "
   ]
  },
  {
   "cell_type": "markdown",
   "metadata": {},
   "source": [
    "f = open('/Users/yjlee/Dropbox/ETC/ProgrammingInPython/Part1/newfile.txt', 'r')"
   ]
  },
  {
   "cell_type": "markdown",
   "metadata": {},
   "source": [
    "또는 현재 작업 디렉토리를 파일이 있는 디렉토리로 변경하여야 한다. "
   ]
  },
  {
   "cell_type": "markdown",
   "metadata": {},
   "source": [
    "### <a id=\"iterating\"></a>반복"
   ]
  },
  {
   "cell_type": "markdown",
   "metadata": {},
   "source": [
    "컴퓨팅에서는 데이터의 순서에 따라 단계별로 주어진 일을 수행하는 것이 중요하다. for 루프를 이용하여 반복 수행을 할 수 있는 유연한 인터페이스는 Python의 장점이라 할 수 있다."
   ]
  },
  {
   "cell_type": "markdown",
   "metadata": {},
   "source": [
    "#### 다른 객체에서 반복"
   ]
  },
  {
   "cell_type": "markdown",
   "metadata": {},
   "source": [
    "Python 객체를 루프에 사용할 수 있다면 이 객체를 \"반복 가능 (iterable)\"하다고 일컫는다. 미국 도시와 인구 리스트를 저장하고 있는 파일 [ｕｓ＿ｃｉｔｉｅｓ．ｔｘｔ](https://https://github.com/YoonJoon/ProgramminginPython/blob/master/Part1/Data/us_cities.txt)를 예로 들어 보자. "
   ]
  },
  {
   "cell_type": "markdown",
   "metadata": {},
   "source": [
    "ｎｅｗ　ｙｏｒｋ：　８２４４９１０\n",
    "\n",
    "ｌｏｓ　ａｎｇｅｌｅｓ：　３８１９７０２\n",
    "\n",
    "ｃｈｉｃａｇｏ：　２７０７１２０　\n",
    "\n",
    "ｈｏｕｓｔｏｎ：　２１４５１４６\n",
    "\n",
    "ｐｈｉｌａｄｅｌｐｈｉａ：　１５３６４７１\n",
    "\n",
    "ｐｈｏｅｎｉｘ：　１４６９４７１\n",
    "\n",
    "ｓａｎ　ａｎｔｏｎｉｏ：　１３５９７５８\n",
    "\n",
    "ｓａｎ　ｄｉｅｇｏ：　１３２６１７９\n",
    "\n",
    "ｄａｌｌａｓ：　１２２３２２９"
   ]
  },
  {
   "cell_type": "markdown",
   "metadata": {},
   "source": [
    "데이터를 읽기 편하게 하기 위하여 도시 이름을 대문자로 시작하고 쉼표로 자리수를 표기하려고 한다. 프로그램 [us_cities.py](https://github.com/YoonJoon/ProgramminginPython/blob/master/Part1/Codes/us_cities.py)로 할 수 있다."
   ]
  },
  {
   "cell_type": "code",
   "execution_count": null,
   "metadata": {
    "collapsed": false
   },
   "outputs": [],
   "source": [
    "data_file = open('Data/us_cities.txt', 'r')\n",
    "for line in data_file:\n",
    "    city, population = line.split(':')            # Tuple unpacking\n",
    "    city = city.title()                           # Capitalize city names\n",
    "    population = '{0:,}'.format(int(population))  # Add commas to numbers\n",
    "    print(city.ljust(15) + population)\n",
    "data_file.close()"
   ]
  },
  {
   "cell_type": "markdown",
   "metadata": {},
   "source": [
    "ｆｏｒｍａｔ（）은 변수(variable) 값을 문자열에 삽입하는 문자열 메소드이다."
   ]
  },
  {
   "cell_type": "markdown",
   "metadata": {},
   "source": [
    "세 문자열 메소드가 줄을 다시 포맷한다. 나중에 이를 자세히 설명할 것이다. \n",
    "2번째 줄의 ｆｏｒ 문장에 ｉｎ 오른쪽에 나타난 파일 객체 ｄａｔａ＿ｆｉｌｅ은 반복 가능 객체이며, 파일의 각 줄에서 반복 수행한다.\n",
    "이는 산뜻하고 편리한 구문을 만든다. 향후 다른 반복 가능 객체에 대하여 알아 볼 것이다."
   ]
  },
  {
   "cell_type": "markdown",
   "metadata": {},
   "source": [
    "#### 색인 없는 루프 ( Looping without Indices)"
   ]
  },
  {
   "cell_type": "markdown",
   "metadata": {},
   "source": [
    "Python에서 색인 표시 없이 루프를 사용하기도 한다. 예를 들어"
   ]
  },
  {
   "cell_type": "raw",
   "metadata": {
    "collapsed": true
   },
   "source": [
    "for i in range(len(x_values)):\n",
    "    print(x_values[i] * x_values[i])"
   ]
  },
  {
   "cell_type": "markdown",
   "metadata": {
    "collapsed": true
   },
   "source": [
    "보다는"
   ]
  },
  {
   "cell_type": "raw",
   "metadata": {
    "collapsed": true
   },
   "source": [
    "for x in x_values:\n",
    "    print(x * x)"
   ]
  },
  {
   "cell_type": "markdown",
   "metadata": {},
   "source": [
    "를 사용한다."
   ]
  },
  {
   "cell_type": "markdown",
   "metadata": {},
   "source": [
    "두 열(sequence)로부터 짝을 만들어 단계 별로 수행하고 싶다면 다음 코드와 같이 ｚｉｐ（） 함수로 색인 없이 루프를 간략하게 사용 하는 Python 기능을 이용할 수 있다. "
   ]
  },
  {
   "cell_type": "raw",
   "metadata": {
    "collapsed": true
   },
   "source": [
    "countries = ('Japan', 'Korea', 'China')\n",
    "cities = ('Tokyo', 'Seoul', 'Beijing')\n",
    "for country, city in zip(countries, cities):\n",
    "    print('The capital of {0} is {1}'.format(country, city))"
   ]
  },
  {
   "cell_type": "markdown",
   "metadata": {},
   "source": [
    "또한 ｚｉｐ（） 함수를 이용하여 dictionary를 만들 수도 있다."
   ]
  },
  {
   "cell_type": "code",
   "execution_count": null,
   "metadata": {
    "collapsed": false
   },
   "outputs": [],
   "source": [
    "names = ['Tom', 'John']\n",
    "marks = ['E', 'F']\n",
    "dict(zip(names, marks))"
   ]
  },
  {
   "cell_type": "markdown",
   "metadata": {},
   "source": [
    "아래의 예와 같이 리스트에서 색인이 필요할 때, ｅｎｕｍｅｒａｔｅ（） 함수를 사용할 수 있다. "
   ]
  },
  {
   "cell_type": "code",
   "execution_count": null,
   "metadata": {
    "collapsed": false
   },
   "outputs": [],
   "source": [
    "letter_list = ['a', 'b', 'c']\n",
    "for index, letter in enumerate(letter_list):\n",
    "    print(\"letter_list[{0}] = '{1}'\".format(index, letter))"
   ]
  },
  {
   "cell_type": "markdown",
   "metadata": {},
   "source": [
    "### <a id=\"comparisons\"></a>비교와 논리 연산자"
   ]
  },
  {
   "cell_type": "markdown",
   "metadata": {},
   "source": [
    "#### 비교 (Comparisons)"
   ]
  },
  {
   "cell_type": "markdown",
   "metadata": {},
   "source": [
    "True 또는 False의 부울 값을 결과로 계산하는 식을 일컬으며 보편적으로 아래와 같이 값을 비교하는 형태를 띠고 있다."
   ]
  },
  {
   "cell_type": "code",
   "execution_count": null,
   "metadata": {
    "collapsed": false
   },
   "outputs": [],
   "source": [
    "x, y = 1, 2\n",
    "x < y"
   ]
  },
  {
   "cell_type": "code",
   "execution_count": null,
   "metadata": {
    "collapsed": false
   },
   "outputs": [],
   "source": [
    "x > y"
   ]
  },
  {
   "cell_type": "markdown",
   "metadata": {},
   "source": [
    "Python에서는 사슬 부등식 (chain inequalities)를 지원한다."
   ]
  },
  {
   "cell_type": "code",
   "execution_count": null,
   "metadata": {
    "collapsed": false
   },
   "outputs": [],
   "source": [
    "1 < 2 < 3"
   ]
  },
  {
   "cell_type": "code",
   "execution_count": null,
   "metadata": {
    "collapsed": false
   },
   "outputs": [],
   "source": [
    "1 <= 2 <= 3"
   ]
  },
  {
   "cell_type": "markdown",
   "metadata": {},
   "source": [
    "앞에서 설명하였듯이 등치 (equality) 검사를 위하여 \"＝＝\"를 사용하여야 한다."
   ]
  },
  {
   "cell_type": "code",
   "execution_count": null,
   "metadata": {
    "collapsed": false
   },
   "outputs": [],
   "source": [
    "x = 1    # Assignment\n",
    "x == 2   # Comparison"
   ]
  },
  {
   "cell_type": "markdown",
   "metadata": {
    "collapsed": true
   },
   "source": [
    "！＝를 사용하여 다름을 검사할 수 있다."
   ]
  },
  {
   "cell_type": "code",
   "execution_count": null,
   "metadata": {
    "collapsed": false
   },
   "outputs": [],
   "source": [
    "1 != 2"
   ]
  },
  {
   "cell_type": "markdown",
   "metadata": {
    "collapsed": true
   },
   "source": [
    "어떤 Python 식에서 조건 검사를 사용할 수 있다. "
   ]
  },
  {
   "cell_type": "code",
   "execution_count": null,
   "metadata": {
    "collapsed": false
   },
   "outputs": [],
   "source": [
    "x = 'yes' if 42 else 'no'\n",
    "x"
   ]
  },
  {
   "cell_type": "code",
   "execution_count": null,
   "metadata": {
    "collapsed": false
   },
   "outputs": [],
   "source": [
    "x = 'yes' if [] else 'no'\n",
    "x"
   ]
  },
  {
   "cell_type": "markdown",
   "metadata": {},
   "source": [
    "* 0, 문자열, 리스트 등 빈 열 또는 콘테이너 그리고 Ｎｏｎｅ 인 식은 Ｆａｌｓｅ로 계산 한다. \n",
    "    * 예를 들면 ｉｆ 절에서 ［］과 （）는 Ｆａｌｓｅ이다. \n",
    "* 다른 값들은 Ｔｒｕｅ이다. \n",
    "    * ｉｆ 절에서 정수 값 ４２는 Ｔｒｕｅ이다."
   ]
  },
  {
   "cell_type": "markdown",
   "metadata": {
    "collapsed": true
   },
   "source": [
    "#### 표현식 결합 (ombining Expressions)"
   ]
  },
  {
   "cell_type": "markdown",
   "metadata": {
    "collapsed": true
   },
   "source": [
    "부울 연산자 ａｎｄ, ｏｒ 과 ｎｏｔ을 사용하여 부울식을 결합할 수 있다. \n",
    "* 식 Ｐ　와　Ｑ 모두 Ｔｒｕｅ이면 식 Ｐ　ａｎｄ　Ｑ 는 Ｔｒｕｅ이고 아니면 Ｆａｌｓｅ이다.  \n",
    "* 식 Ｐ　와　Ｑ 모두 Ｆａｌｓｅ이면 식 Ｐ　ｏｒ　Ｑ 는 Ｆａｌｓｅ이고 아니면 Ｔｒｕｅ이다. "
   ]
  },
  {
   "cell_type": "code",
   "execution_count": null,
   "metadata": {
    "collapsed": false
   },
   "outputs": [],
   "source": [
    "1 < 2 and 'f' in 'foo'"
   ]
  },
  {
   "cell_type": "code",
   "execution_count": null,
   "metadata": {
    "collapsed": false
   },
   "outputs": [],
   "source": [
    "1 < 2 and 'g' in 'foo'"
   ]
  },
  {
   "cell_type": "code",
   "execution_count": null,
   "metadata": {
    "collapsed": false
   },
   "outputs": [],
   "source": [
    "1 < 2 or 'g' in 'foo'"
   ]
  },
  {
   "cell_type": "code",
   "execution_count": null,
   "metadata": {
    "collapsed": false
   },
   "outputs": [],
   "source": [
    "not True"
   ]
  },
  {
   "cell_type": "code",
   "execution_count": null,
   "metadata": {
    "collapsed": false
   },
   "outputs": [],
   "source": [
    "not not True"
   ]
  },
  {
   "cell_type": "markdown",
   "metadata": {},
   "source": [
    "### <a id=\"more_functions\"></a>함수"
   ]
  },
  {
   "cell_type": "markdown",
   "metadata": {},
   "source": [
    "코드를 바람직한 스타일로 작성하는데 매우 중요한 함수에 대하여 알아 보자. Python에는 import 명령없이 호출할 수 있는 내장 함수를 갖추고 있다. 예를 들어,"
   ]
  },
  {
   "cell_type": "code",
   "execution_count": null,
   "metadata": {
    "collapsed": false
   },
   "outputs": [],
   "source": [
    "max(19, 20)"
   ]
  },
  {
   "cell_type": "code",
   "execution_count": null,
   "metadata": {
    "collapsed": false
   },
   "outputs": [],
   "source": [
    "range(4)"
   ]
  },
  {
   "cell_type": "code",
   "execution_count": null,
   "metadata": {
    "collapsed": false
   },
   "outputs": [],
   "source": [
    "str(22)"
   ]
  },
  {
   "cell_type": "code",
   "execution_count": null,
   "metadata": {
    "collapsed": false
   },
   "outputs": [],
   "source": [
    "type(22)"
   ]
  },
  {
   "cell_type": "markdown",
   "metadata": {},
   "source": [
    "등이다. 함수 ａｎｙ（）와 ａｌｌ（）도 유용하게 사용된다."
   ]
  },
  {
   "cell_type": "code",
   "execution_count": null,
   "metadata": {
    "collapsed": false
   },
   "outputs": [],
   "source": [
    "bools = False, True, True\n",
    "all(bools)  # True if all are True and False otherwise"
   ]
  },
  {
   "cell_type": "code",
   "execution_count": null,
   "metadata": {
    "collapsed": false
   },
   "outputs": [],
   "source": [
    "any(bools)  # False if all are False and True otherwise"
   ]
  },
  {
   "cell_type": "markdown",
   "metadata": {},
   "source": [
    "Python 내장 함수의 목록은 [여기](https://docs.python.org/2/library/functions.html)에서 찾을 수 있다. 이제 지정어 ｄｅｆ를 사용하여 만드는 사용자 정의 함수에 대하여 살펴보자."
   ]
  },
  {
   "cell_type": "markdown",
   "metadata": {},
   "source": [
    "#### 함수는 왜 필요한가?"
   ]
  },
  {
   "cell_type": "markdown",
   "metadata": {},
   "source": [
    "코드를 명쾌하게 작성하기 위하여 사용자 정의 함수 사용은 \n",
    "* 프로그램 로직의 다른 가닥의 분리와\n",
    "* 코드 재사용 촉진 (같은 코드를 작성하는 것은 [회피하여야](https://en.wikipedia.org/wiki/Don%27t_repeat_yourself) 한다.)\n",
    "\n",
    "관점에서 매우 중요하다. 이미 사용자 정의 함수에 대하여 [앞](https://github.com/YoonJoon/ProgramminginPython/blob/master/Part1/intro_Ex.ipynb#user_defined_functions)에서 간단하게 설명하였다."
   ]
  },
  {
   "cell_type": "markdown",
   "metadata": {},
   "source": [
    "#### Python 함수의 유연성"
   ]
  },
  {
   "cell_type": "markdown",
   "metadata": {},
   "source": [
    "이미 [이전 장](https://github.com/YoonJoon/ProgramminginPython/blob/master/Part1/intro_Ex.ipynb#python-by-example)에서 설명하였듯이 Python 함수는 아래와 같은 유연성을 갖고 있다.\n",
    "* 동일 파일에서 필요한 함수들을 함께 정의하여 작성할 수 있다. \n",
    "* 함수 내에서 다른 함수를 정의할 수 있다.\n",
    "* 함수를 포함하여 어떤 객체도 인수로 사용할 수 있다.\n",
    "* 함수를 포함하여 모든 종류의 객체를 반환할 수 있다.\n",
    "\n",
    "함수의 인자로 함수를 사용하는 [예](https://github.com/YoonJoon/ProgramminginPython/blob/master/Part1/intro_Ex.ipynb#example_1)를 이미 설명하였다. 또한 함수내에서 ｒｅｔｕｒｎ문을 여러 곳에서 사용할 수 있다. 처음 만나는 return문에서 함수는 실행을 종료한다. "
   ]
  },
  {
   "cell_type": "raw",
   "metadata": {},
   "source": [
    "def f(x):\n",
    "    if x < 0:\n",
    "        return 'negative'\n",
    "    return 'nonnegative'"
   ]
  },
  {
   "cell_type": "markdown",
   "metadata": {},
   "source": [
    "return문이 없는 함수에서는 Python 객체 Ｎｏｎｅ을 자동으로 반환한다. "
   ]
  },
  {
   "cell_type": "markdown",
   "metadata": {},
   "source": [
    "#### Doctrings"
   ]
  },
  {
   "cell_type": "markdown",
   "metadata": {
    "collapsed": true
   },
   "source": [
    "Python은 함수와 모듈에 주석을 다는 *docstring*이라는 시스템을 갖추고 있다. docstring은 함수와 모듈을 실행할 때에도 이용할 수 있다. 예로 파일 아래의 temp.py의 코드를 살펴보자."
   ]
  },
  {
   "cell_type": "code",
   "execution_count": 1,
   "metadata": {
    "collapsed": true
   },
   "outputs": [],
   "source": [
    "# Filename: temp.py\n",
    "def f(x):\n",
    "    \"\"\"\n",
    "    This function squares its argument.\n",
    "    \"\"\"\n",
    "    return x**2"
   ]
  },
  {
   "cell_type": "markdown",
   "metadata": {
    "collapsed": true
   },
   "source": [
    "위의 코드를 실행한 다음 아래와 같이 docstring을 이용할 수 있다."
   ]
  },
  {
   "cell_type": "code",
   "execution_count": null,
   "metadata": {
    "collapsed": false
   },
   "outputs": [],
   "source": [
    "help(f)"
   ]
  },
  {
   "cell_type": "code",
   "execution_count": null,
   "metadata": {
    "collapsed": false
   },
   "outputs": [],
   "source": [
    "f.__doc__"
   ]
  },
  {
   "cell_type": "code",
   "execution_count": 2,
   "metadata": {
    "collapsed": true
   },
   "outputs": [],
   "source": [
    "f?"
   ]
  },
  {
   "cell_type": "code",
   "execution_count": 3,
   "metadata": {
    "collapsed": true
   },
   "outputs": [],
   "source": [
    "f??"
   ]
  },
  {
   "cell_type": "markdown",
   "metadata": {},
   "source": [
    "\"?\"는 docstring을 출력하며, \"??\"는 코드도 출력한다. 이를 notebook이 사용하는 브라우저의 하단에서 볼 수 있다."
   ]
  },
  {
   "cell_type": "markdown",
   "metadata": {},
   "source": [
    "#### 한줄 함수 (One-Line Functions): ｌａｍｂｄａ"
   ]
  },
  {
   "cell_type": "markdown",
   "metadata": {},
   "source": [
    "한줄로 간단한 함수를 지정어 ｌａｍｂｄａ를 사용하여 정의할 수 있다. 예를 들어"
   ]
  },
  {
   "cell_type": "raw",
   "metadata": {},
   "source": [
    "def f(x):\n",
    "    return x**3"
   ]
  },
  {
   "cell_type": "markdown",
   "metadata": {},
   "source": [
    "와 "
   ]
  },
  {
   "cell_type": "raw",
   "metadata": {},
   "source": [
    "f = lambda x: x**3"
   ]
  },
  {
   "cell_type": "markdown",
   "metadata": {},
   "source": [
    "는 같은 함수이다."
   ]
  },
  {
   "cell_type": "markdown",
   "metadata": {},
   "source": [
    "$\\int_0^2 x^3 dx$를 계산하고자 한다. 이 계산을 위하여 SciPy 라이브러리에 함수 ｑｕａｄ가  있으며, ｆ가 함수 이고, ａ와 ｂ가 수일 때 ｑｕａｄ（ｆ，　ａ，　ｂ）와 같이 함수 ｑｕａｄ를 사용할 수 있다. 함수 $f(x) = x^3$를 위하여 lambda를 사용한다."
   ]
  },
  {
   "cell_type": "code",
   "execution_count": 5,
   "metadata": {
    "collapsed": false
   },
   "outputs": [
    {
     "data": {
      "text/plain": [
       "(4.0, 4.440892098500626e-14)"
      ]
     },
     "execution_count": 5,
     "metadata": {},
     "output_type": "execute_result"
    }
   ],
   "source": [
    "from scipy.integrate import quad\n",
    "\n",
    "quad(lambda x: x**3, 0, 2)"
   ]
  },
  {
   "cell_type": "markdown",
   "metadata": {},
   "source": [
    "함수 이름을 지정하지 않으므로 ｌａｍｂｄａ가 정의한 함수를 *익명(anonymous)* 함수라 한다."
   ]
  },
  {
   "cell_type": "markdown",
   "metadata": {},
   "source": [
    "#### 지정어 인수 (Keyword Arguments)"
   ]
  },
  {
   "cell_type": "markdown",
   "metadata": {},
   "source": [
    "[이전 장](https://github.com/YoonJoon/ProgramminginPython/blob/master/Part1/intro_Ex.ipynb)의 연습문제에서 다루었던 문장"
   ]
  },
  {
   "cell_type": "raw",
   "metadata": {},
   "source": [
    "plt.plot(x, 'b-', label=\"white noise\")"
   ]
  },
  {
   "cell_type": "markdown",
   "metadata": {},
   "source": [
    "의 Matplotlib의 함수 ｐｌｏｔ은 호출할 때 ｎａｍｅ＝ａｒｇｕｍｅｎｔ　구문으로 마지막 인수를 보낸다. 지정어로 사용하는 ｌａｂｅｌ과 함께 이같은 형태의 인수를 *지정어 인수*라고 한다. 지정어를 사용하지 않은 인수는 순서에 의하여 인수를 결정하므로 *위치 인수(positional arguments)* 라고 한다. 따라서 ｐｌｏｔ（ｘ，　＇ｂ－＇，　ｌａｂｅｌ＝＂ｗｈｉｔｅ　ｎｏｉｓｅ＂）와 ｐｌｏｔ（＇ｂ－＇，　ｘ，　ｌａｂｅｌ＝＂ｗｈｉｔｅ　ｎｏｉｓｅ＂） 두 문장은 다른 것이다. \n",
    "\n",
    "지정어 인수는 인수가 많아 그 위치를 기억하기 어려울 때 많이 사용된다. 사용자 정의 함수에서도 쉽게 지정어 인수를 지정할 수 있다. "
   ]
  },
  {
   "cell_type": "code",
   "execution_count": 6,
   "metadata": {
    "collapsed": true
   },
   "outputs": [],
   "source": [
    "def f(x, coefficients=(1, 1)):\n",
    "    a, b = coefficients\n",
    "    return a + b * x"
   ]
  },
  {
   "cell_type": "code",
   "execution_count": 7,
   "metadata": {
    "collapsed": false
   },
   "outputs": [
    {
     "data": {
      "text/plain": [
       "0"
      ]
     },
     "execution_count": 7,
     "metadata": {},
     "output_type": "execute_result"
    }
   ],
   "source": [
    "f(2, coefficients=(0, 0))"
   ]
  },
  {
   "cell_type": "code",
   "execution_count": 8,
   "metadata": {
    "collapsed": false
   },
   "outputs": [
    {
     "data": {
      "text/plain": [
       "3"
      ]
     },
     "execution_count": 8,
     "metadata": {},
     "output_type": "execute_result"
    }
   ],
   "source": [
    "f(2)  # Use default values (1, 1)"
   ]
  },
  {
   "cell_type": "markdown",
   "metadata": {},
   "source": [
    "위의 예에서와 같이 함수를 정의할 때 주어진 지정어 인수의 값을 기본 값 (default values)로 사용할 수 있다. "
   ]
  },
  {
   "cell_type": "markdown",
   "metadata": {},
   "source": [
    "### <a id=\"coding_style\"></a>코딩 스타일과 PEP8"
   ]
  },
  {
   "cell_type": "markdown",
   "metadata": {},
   "source": [
    "아래와 같이 ｉｍｐｏｒｔ　ｔｈｉｓ를 입력하면 Python 프로그래밍 정신을 볼 수 있다. 이들 중에 Python은 프로그래밍 스타일의  일관성을 매우 선호한다. 이미 일관성과 작은 코어의 관계에 대하여 이야기 하였다. 수학과 같이 프로그래밍에서도 그 반대가 성립한다. 즉 풍부한 기능을 제공하는 복잡한 언어에서 스타일의 일관성을 유지하기는 매우 어렵다. \n",
    "시작부터 기호 $\\cup$ 과 $\\cap$ 사용에 대한 주의를 언급 했다 하더라도 이 기호를 반대로 사용한 수학 논문을 이해하기 어렵다.  \n",
    "\n",
    "[PEP8](https://www.python.org/dev/peps/pep-0008/)에서 Python의 표준 스타일을 정의하고 있다."
   ]
  },
  {
   "cell_type": "code",
   "execution_count": 9,
   "metadata": {
    "collapsed": false
   },
   "outputs": [
    {
     "name": "stdout",
     "output_type": "stream",
     "text": [
      "The Zen of Python, by Tim Peters\n",
      "\n",
      "Beautiful is better than ugly.\n",
      "Explicit is better than implicit.\n",
      "Simple is better than complex.\n",
      "Complex is better than complicated.\n",
      "Flat is better than nested.\n",
      "Sparse is better than dense.\n",
      "Readability counts.\n",
      "Special cases aren't special enough to break the rules.\n",
      "Although practicality beats purity.\n",
      "Errors should never pass silently.\n",
      "Unless explicitly silenced.\n",
      "In the face of ambiguity, refuse the temptation to guess.\n",
      "There should be one-- and preferably only one --obvious way to do it.\n",
      "Although that way may not be obvious at first unless you're Dutch.\n",
      "Now is better than never.\n",
      "Although never is often better than *right* now.\n",
      "If the implementation is hard to explain, it's a bad idea.\n",
      "If the implementation is easy to explain, it may be a good idea.\n",
      "Namespaces are one honking great idea -- let's do more of those!\n"
     ]
    }
   ],
   "source": [
    "import this"
   ]
  },
  {
   "cell_type": "markdown",
   "metadata": {},
   "source": [
    "### <a id=\"exercises\"></a>연습"
   ]
  },
  {
   "cell_type": "markdown",
   "metadata": {
    "collapsed": true
   },
   "source": [
    "#### 1."
   ]
  },
  {
   "cell_type": "markdown",
   "metadata": {},
   "source": [
    "1. 리스트 또는 튜플에 저장된 같은 수의 원소를 갖는 두 벡터 ｘ＿ｖａｌｓ 와 ｙ＿ｖａｌｓ가 주어졌을때, 함수 ｚｉｐ（）을 사용하여 이들의 내적(inner product)을 구하하는 프로그램을 작성하여라.\n",
    "\n",
    "1. 한줄로 0..99에서 짝수를 세는 프로그램을 작성하여라. (Hint: x % 2 는 x가 짝수이면 0을 아니면 1을 반환한다.\n",
    "\n",
    "1. ｐａｉｒｓ　＝　（（２，　５），　（４，　２），　（９，　８），　（１２，　１０））가 주어졌을때 ａ와 ｂ가 모두 짝수인 쌍 (a, b)의 갯수를 구하는 프로그램을 작성하여라."
   ]
  },
  {
   "cell_type": "markdown",
   "metadata": {},
   "source": [
    "#### 2."
   ]
  },
  {
   "cell_type": "markdown",
   "metadata": {},
   "source": [
    "다항식 "
   ]
  },
  {
   "cell_type": "markdown",
   "metadata": {},
   "source": [
    "$p(x)\n",
    "= a_0 + a_1 x + a_2 x^2 + \\cdots a_n x^n\n",
    "= \\sum_{i=0}^n a_i x^i$ <a id=\"equation_0\">(1)</a>"
   ]
  },
  {
   "cell_type": "markdown",
   "metadata": {},
   "source": [
    "에서 x값과 계수 리스트 coeff가 주어졌을때 루프에서 함수 ｅｎｕｍｅｒａｔｅ（）를 사용하여 식 [(1)](#equation_0) 값을 계산 하는 함수 ｐ（ｘ，　ｃｏｅｆｆ）를 작성하여라. "
   ]
  },
  {
   "cell_type": "markdown",
   "metadata": {},
   "source": [
    "#### 3."
   ]
  },
  {
   "cell_type": "markdown",
   "metadata": {},
   "source": [
    "문자열을 인수로 받아 그 문자열의 대문자 개수를 반환하는 함수를 작성하여라. (함수 'foo'.upper()는 'FOO'를 반환한다.)"
   ]
  },
  {
   "cell_type": "markdown",
   "metadata": {},
   "source": [
    "#### 4."
   ]
  },
  {
   "cell_type": "markdown",
   "metadata": {},
   "source": [
    "두 열(sequence) seq_a과 seq_b를 인수로 받아 seq_a에 있는 모든 원소들이 seq_b에 있으면 True 아니면 False를 반환하는 함수를 작성하여라. \n",
    "* 여기에서 열은 리스트, 튜플 또는 문자열이다.\n",
    "* [sets](https://docs.python.org/3/tutorial/datastructures.html#sets)이나 set 메소드를 사용하지 않고 작성하시오."
   ]
  },
  {
   "cell_type": "markdown",
   "metadata": {},
   "source": [
    "#### 5."
   ]
  },
  {
   "cell_type": "markdown",
   "metadata": {},
   "source": [
    "수치 라이브러리에는 여러 방법의 보간법(interpolation)과 함수 근사법 (function approximation)이 있다. 그렇지만 여기에서는 우리만의 함수 근사법 즉 import 문을 사용하지 않고 아래의 인수를 갖는 함수 linapprox를 작성하여라. \n",
    "* 범위 $[a, b]$에서 $\\mathbb R$로 사상하는 함수 ｆ\n",
    "* 이 범위의 경계를 나타내는 두 수 ａ 와 ｂ\n",
    "* 격자 점 (grid point)의 갯수인 정수 ｎ\n",
    "* ａ　＜＝　ｘ　＜＝　ｂ 를 만족하는 ｘ\n",
    "\n",
    "또한, n개의 균일하게 이격된 격자점 (evenly spaced grid) ａ　＝　ｐｏｉｎｔ［０］　＜　ｐｏｉｎｔ［１］　＜　．．．　＜　ｐｏｉｎｔ［ｎ－１］　＝　ｂ 으로부터 점 x에서 구분적 선형보간법 (piecewise linear interpolation) 을 이용하여 f 값을 반환하는 프로그램을 작성하여라. (효율을 고려하지 말고 알기 쉽게 작성하시오.)"
   ]
  },
  {
   "cell_type": "code",
   "execution_count": null,
   "metadata": {
    "collapsed": true
   },
   "outputs": [],
   "source": []
  }
 ],
 "metadata": {
  "kernelspec": {
   "display_name": "Python 3",
   "language": "python",
   "name": "python3"
  },
  "language_info": {
   "codemirror_mode": {
    "name": "ipython",
    "version": 3
   },
   "file_extension": ".py",
   "mimetype": "text/x-python",
   "name": "python",
   "nbconvert_exporter": "python",
   "pygments_lexer": "ipython3",
   "version": "3.6.0"
  }
 },
 "nbformat": 4,
 "nbformat_minor": 2
}
